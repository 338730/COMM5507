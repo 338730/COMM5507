{
 "cells": [
  {
   "cell_type": "markdown",
   "metadata": {},
   "source": [
    "\n",
    "# Data processing ane exploration for text data \n",
    "- The codes in this notebook are modified from various sources, including this [tutorial](http://www.data-analysis-in-python.org/t_text_analysis.html#), this [tutorial](https://www.analyticsvidhya.com/blog/2018/02/the-different-methods-deal-text-data-predictive-python/), and this [tutorial](https://www.digitalvidya.com/blog/an-introduction-to-text-analysis-in-python/). \n",
    "- [This book](https://www.oreilly.com/library/view/applied-text-analysis/9781491963036/#toc-start) is also very helpful. \n",
    "- All codes are for educational purposes only and released under the MIT licence. "
   ]
  },
  {
   "cell_type": "markdown",
   "metadata": {
    "collapsed": true
   },
   "source": [
    "# import the data "
   ]
  },
  {
   "cell_type": "code",
   "execution_count": 1,
   "metadata": {},
   "outputs": [],
   "source": [
    "import pandas as pd"
   ]
  },
  {
   "cell_type": "code",
   "execution_count": 2,
   "metadata": {},
   "outputs": [
    {
     "data": {
      "text/html": [
       "<div>\n",
       "<style scoped>\n",
       "    .dataframe tbody tr th:only-of-type {\n",
       "        vertical-align: middle;\n",
       "    }\n",
       "\n",
       "    .dataframe tbody tr th {\n",
       "        vertical-align: top;\n",
       "    }\n",
       "\n",
       "    .dataframe thead th {\n",
       "        text-align: right;\n",
       "    }\n",
       "</style>\n",
       "<table border=\"1\" class=\"dataframe\">\n",
       "  <thead>\n",
       "    <tr style=\"text-align: right;\">\n",
       "      <th></th>\n",
       "      <th>Unnamed: 0</th>\n",
       "      <th>user_name</th>\n",
       "      <th>reviews_title</th>\n",
       "      <th>user_reviews</th>\n",
       "      <th>rank</th>\n",
       "    </tr>\n",
       "  </thead>\n",
       "  <tbody>\n",
       "    <tr>\n",
       "      <th>0</th>\n",
       "      <td>0</td>\n",
       "      <td>MartinHafer</td>\n",
       "      <td>Never dull...but do NOT let your kids watch t...</td>\n",
       "      <td>NAN</td>\n",
       "      <td>10.0</td>\n",
       "    </tr>\n",
       "    <tr>\n",
       "      <th>1</th>\n",
       "      <td>1</td>\n",
       "      <td>Leofwine_draca</td>\n",
       "      <td>A new TV classic\\n</td>\n",
       "      <td>NAN</td>\n",
       "      <td>10.0</td>\n",
       "    </tr>\n",
       "    <tr>\n",
       "      <th>2</th>\n",
       "      <td>2</td>\n",
       "      <td>kosmasp</td>\n",
       "      <td>Just a game\\n</td>\n",
       "      <td>Well multiple games actually, but even that yo...</td>\n",
       "      <td>9.0</td>\n",
       "    </tr>\n",
       "    <tr>\n",
       "      <th>3</th>\n",
       "      <td>3</td>\n",
       "      <td>classicsoncall</td>\n",
       "      <td>\"We're in hell here. There's no rules in hell...</td>\n",
       "      <td>NAN</td>\n",
       "      <td>8.0</td>\n",
       "    </tr>\n",
       "    <tr>\n",
       "      <th>4</th>\n",
       "      <td>4</td>\n",
       "      <td>lee_eisenberg</td>\n",
       "      <td>trust me, you have never seen anything like t...</td>\n",
       "      <td>Even if you've seen \"The Hunger Games\" and \"Mo...</td>\n",
       "      <td>10.0</td>\n",
       "    </tr>\n",
       "  </tbody>\n",
       "</table>\n",
       "</div>"
      ],
      "text/plain": [
       "   Unnamed: 0       user_name  \\\n",
       "0           0     MartinHafer   \n",
       "1           1  Leofwine_draca   \n",
       "2           2         kosmasp   \n",
       "3           3  classicsoncall   \n",
       "4           4   lee_eisenberg   \n",
       "\n",
       "                                       reviews_title  \\\n",
       "0   Never dull...but do NOT let your kids watch t...   \n",
       "1                                 A new TV classic\\n   \n",
       "2                                      Just a game\\n   \n",
       "3   \"We're in hell here. There's no rules in hell...   \n",
       "4   trust me, you have never seen anything like t...   \n",
       "\n",
       "                                        user_reviews  rank  \n",
       "0                                                NAN  10.0  \n",
       "1                                                NAN  10.0  \n",
       "2  Well multiple games actually, but even that yo...   9.0  \n",
       "3                                                NAN   8.0  \n",
       "4  Even if you've seen \"The Hunger Games\" and \"Mo...  10.0  "
      ]
     },
     "execution_count": 2,
     "metadata": {},
     "output_type": "execute_result"
    }
   ],
   "source": [
    "df = pd.read_csv('pd_IMDB.csv',encoding='utf8')\n",
    "df.head()"
   ]
  },
  {
   "cell_type": "code",
   "execution_count": 3,
   "metadata": {},
   "outputs": [],
   "source": [
    "df_reviews_title = pd.DataFrame(df['reviews_title'], columns=[\"reviews_title\"])"
   ]
  },
  {
   "cell_type": "code",
   "execution_count": 4,
   "metadata": {},
   "outputs": [
    {
     "data": {
      "text/html": [
       "<div>\n",
       "<style scoped>\n",
       "    .dataframe tbody tr th:only-of-type {\n",
       "        vertical-align: middle;\n",
       "    }\n",
       "\n",
       "    .dataframe tbody tr th {\n",
       "        vertical-align: top;\n",
       "    }\n",
       "\n",
       "    .dataframe thead th {\n",
       "        text-align: right;\n",
       "    }\n",
       "</style>\n",
       "<table border=\"1\" class=\"dataframe\">\n",
       "  <thead>\n",
       "    <tr style=\"text-align: right;\">\n",
       "      <th></th>\n",
       "      <th>reviews_title</th>\n",
       "    </tr>\n",
       "  </thead>\n",
       "  <tbody>\n",
       "    <tr>\n",
       "      <th>0</th>\n",
       "      <td>Never dull...but do NOT let your kids watch t...</td>\n",
       "    </tr>\n",
       "    <tr>\n",
       "      <th>1</th>\n",
       "      <td>A new TV classic\\n</td>\n",
       "    </tr>\n",
       "    <tr>\n",
       "      <th>2</th>\n",
       "      <td>Just a game\\n</td>\n",
       "    </tr>\n",
       "    <tr>\n",
       "      <th>3</th>\n",
       "      <td>\"We're in hell here. There's no rules in hell...</td>\n",
       "    </tr>\n",
       "    <tr>\n",
       "      <th>4</th>\n",
       "      <td>trust me, you have never seen anything like t...</td>\n",
       "    </tr>\n",
       "  </tbody>\n",
       "</table>\n",
       "</div>"
      ],
      "text/plain": [
       "                                       reviews_title\n",
       "0   Never dull...but do NOT let your kids watch t...\n",
       "1                                 A new TV classic\\n\n",
       "2                                      Just a game\\n\n",
       "3   \"We're in hell here. There's no rules in hell...\n",
       "4   trust me, you have never seen anything like t..."
      ]
     },
     "execution_count": 4,
     "metadata": {},
     "output_type": "execute_result"
    }
   ],
   "source": [
    "df_reviews_title.head()"
   ]
  },
  {
   "cell_type": "markdown",
   "metadata": {},
   "source": [
    "# Mining the text"
   ]
  },
  {
   "cell_type": "markdown",
   "metadata": {
    "collapsed": true
   },
   "source": [
    "## Basic Feature Extraction"
   ]
  },
  {
   "cell_type": "code",
   "execution_count": 5,
   "metadata": {},
   "outputs": [
    {
     "data": {
      "text/html": [
       "<div>\n",
       "<style scoped>\n",
       "    .dataframe tbody tr th:only-of-type {\n",
       "        vertical-align: middle;\n",
       "    }\n",
       "\n",
       "    .dataframe tbody tr th {\n",
       "        vertical-align: top;\n",
       "    }\n",
       "\n",
       "    .dataframe thead th {\n",
       "        text-align: right;\n",
       "    }\n",
       "</style>\n",
       "<table border=\"1\" class=\"dataframe\">\n",
       "  <thead>\n",
       "    <tr style=\"text-align: right;\">\n",
       "      <th></th>\n",
       "      <th>reviews_title</th>\n",
       "      <th>char_count</th>\n",
       "    </tr>\n",
       "  </thead>\n",
       "  <tbody>\n",
       "    <tr>\n",
       "      <th>0</th>\n",
       "      <td>Never dull...but do NOT let your kids watch t...</td>\n",
       "      <td>55</td>\n",
       "    </tr>\n",
       "    <tr>\n",
       "      <th>1</th>\n",
       "      <td>A new TV classic\\n</td>\n",
       "      <td>18</td>\n",
       "    </tr>\n",
       "    <tr>\n",
       "      <th>2</th>\n",
       "      <td>Just a game\\n</td>\n",
       "      <td>13</td>\n",
       "    </tr>\n",
       "    <tr>\n",
       "      <th>3</th>\n",
       "      <td>\"We're in hell here. There's no rules in hell...</td>\n",
       "      <td>71</td>\n",
       "    </tr>\n",
       "    <tr>\n",
       "      <th>4</th>\n",
       "      <td>trust me, you have never seen anything like t...</td>\n",
       "      <td>50</td>\n",
       "    </tr>\n",
       "  </tbody>\n",
       "</table>\n",
       "</div>"
      ],
      "text/plain": [
       "                                       reviews_title  char_count\n",
       "0   Never dull...but do NOT let your kids watch t...          55\n",
       "1                                 A new TV classic\\n          18\n",
       "2                                      Just a game\\n          13\n",
       "3   \"We're in hell here. There's no rules in hell...          71\n",
       "4   trust me, you have never seen anything like t...          50"
      ]
     },
     "execution_count": 5,
     "metadata": {},
     "output_type": "execute_result"
    }
   ],
   "source": [
    "# number of characters per row\n",
    "\n",
    "df_reviews_title['char_count'] = df_reviews_title['reviews_title'].str.len()  ## this also includes spaces\n",
    "\n",
    "df_reviews_title.head()"
   ]
  },
  {
   "cell_type": "code",
   "execution_count": 6,
   "metadata": {},
   "outputs": [
    {
     "name": "stdout",
     "output_type": "stream",
     "text": [
      "['reviews_title', 'char_count', '0', 'Never', 'dull...but', 'do', 'NOT', 'let', 'your', 'kids', 'watch', 't...', '55', '1', 'A', 'new', 'TV', 'classic\\\\n', '18', '2', 'Just', 'a', 'game\\\\n', '13', '3', '\"We\\'re', 'in', 'hell', 'here.', \"There's\", 'no', 'rules', 'in', 'hell...', '71', '4', 'trust', 'me,', 'you', 'have', 'never', 'seen', 'anything', 'like', 't...', '50', '...', '...', '...', '2250', 'There', 'is', 'not', 'a', 'second', 'of', 'boredom', 'in', 'tv', 'show\\\\n', '45', '2251', 'Recommended\\\\n', '13', '2252', 'Absolutely', 'beautiful', 'series\\\\n', '29', '2253', 'Overhyped', 'but', 'good\\\\n', '20', '2254', 'Just', 'Questioning', 'Humanity?!\\\\n', '29', '[2255', 'rows', 'x', '2', 'columns]']\n"
     ]
    },
    {
     "data": {
      "text/plain": [
       "84"
      ]
     },
     "execution_count": 6,
     "metadata": {},
     "output_type": "execute_result"
    }
   ],
   "source": [
    "string = str(df_reviews_title)\n",
    "print(string.split())\n",
    "len(string.split())"
   ]
  },
  {
   "cell_type": "code",
   "execution_count": 7,
   "metadata": {},
   "outputs": [
    {
     "data": {
      "text/html": [
       "<div>\n",
       "<style scoped>\n",
       "    .dataframe tbody tr th:only-of-type {\n",
       "        vertical-align: middle;\n",
       "    }\n",
       "\n",
       "    .dataframe tbody tr th {\n",
       "        vertical-align: top;\n",
       "    }\n",
       "\n",
       "    .dataframe thead th {\n",
       "        text-align: right;\n",
       "    }\n",
       "</style>\n",
       "<table border=\"1\" class=\"dataframe\">\n",
       "  <thead>\n",
       "    <tr style=\"text-align: right;\">\n",
       "      <th></th>\n",
       "      <th>reviews_title</th>\n",
       "      <th>char_count</th>\n",
       "      <th>word_count</th>\n",
       "    </tr>\n",
       "  </thead>\n",
       "  <tbody>\n",
       "    <tr>\n",
       "      <th>0</th>\n",
       "      <td>Never dull...but do NOT let your kids watch t...</td>\n",
       "      <td>55</td>\n",
       "      <td>10</td>\n",
       "    </tr>\n",
       "    <tr>\n",
       "      <th>1</th>\n",
       "      <td>A new TV classic\\n</td>\n",
       "      <td>18</td>\n",
       "      <td>4</td>\n",
       "    </tr>\n",
       "    <tr>\n",
       "      <th>2</th>\n",
       "      <td>Just a game\\n</td>\n",
       "      <td>13</td>\n",
       "      <td>3</td>\n",
       "    </tr>\n",
       "    <tr>\n",
       "      <th>3</th>\n",
       "      <td>\"We're in hell here. There's no rules in hell...</td>\n",
       "      <td>71</td>\n",
       "      <td>13</td>\n",
       "    </tr>\n",
       "    <tr>\n",
       "      <th>4</th>\n",
       "      <td>trust me, you have never seen anything like t...</td>\n",
       "      <td>50</td>\n",
       "      <td>9</td>\n",
       "    </tr>\n",
       "  </tbody>\n",
       "</table>\n",
       "</div>"
      ],
      "text/plain": [
       "                                       reviews_title  char_count  word_count\n",
       "0   Never dull...but do NOT let your kids watch t...          55          10\n",
       "1                                 A new TV classic\\n          18           4\n",
       "2                                      Just a game\\n          13           3\n",
       "3   \"We're in hell here. There's no rules in hell...          71          13\n",
       "4   trust me, you have never seen anything like t...          50           9"
      ]
     },
     "execution_count": 7,
     "metadata": {},
     "output_type": "execute_result"
    }
   ],
   "source": [
    "# define an embedded function to find the number of words per row\n",
    "\n",
    "df_reviews_title['word_count'] = df_reviews_title['reviews_title'].apply(\n",
    "    lambda ttl: len(str(ttl).split()))\n",
    "df_reviews_title.head()"
   ]
  },
  {
   "cell_type": "markdown",
   "metadata": {},
   "source": [
    "## Basic text processing\n",
    "- this step is normally called text normalization "
   ]
  },
  {
   "cell_type": "code",
   "execution_count": 8,
   "metadata": {},
   "outputs": [],
   "source": [
    "# removing the empty values\n",
    "\n",
    "df_reviews_title['reviews_title'] = df_reviews_title['reviews_title'].fillna(\"\")"
   ]
  },
  {
   "cell_type": "code",
   "execution_count": 9,
   "metadata": {},
   "outputs": [
    {
     "data": {
      "text/plain": [
       "0    never dull...but do not let your kids watch th...\n",
       "1                                     a new tv classic\n",
       "2                                          just a game\n",
       "3    \"we're in hell here. there's no rules in hell!...\n",
       "4     trust me, you have never seen anything like this\n",
       "Name: reviews_title, dtype: object"
      ]
     },
     "execution_count": 9,
     "metadata": {},
     "output_type": "execute_result"
    }
   ],
   "source": [
    "# converting all letters to lower case\n",
    "# lambda ttl: \" \".join(word.lower() for word in ttl.split())\n",
    "\n",
    "df_reviews_title['reviews_title'] = df_reviews_title['reviews_title'].apply(\n",
    "    lambda ttl: \" \".join(wrd.lower() for wrd in ttl.split()))\n",
    "df_reviews_title['reviews_title'].head()"
   ]
  },
  {
   "cell_type": "code",
   "execution_count": 10,
   "metadata": {
    "scrolled": false
   },
   "outputs": [
    {
     "name": "stderr",
     "output_type": "stream",
     "text": [
      "<ipython-input-10-5d30302f48b6>:3: FutureWarning: The default value of regex will change from True to False in a future version.\n",
      "  df_reviews_title['reviews_title'] = df_reviews_title['reviews_title'].str.replace('[^\\w\\s]', '')\n"
     ]
    },
    {
     "data": {
      "text/plain": [
       "0    never dullbut do not let your kids watch this one\n",
       "1                                     a new tv classic\n",
       "2                                          just a game\n",
       "3    were in hell here theres no rules in hell  deo...\n",
       "4      trust me you have never seen anything like this\n",
       "Name: reviews_title, dtype: object"
      ]
     },
     "execution_count": 10,
     "metadata": {},
     "output_type": "execute_result"
    }
   ],
   "source": [
    "# removing all punctuations, which are specified with regular expression \"[^\\w\\s]\"\n",
    "\n",
    "df_reviews_title['reviews_title'] = df_reviews_title['reviews_title'].str.replace('[^\\w\\s]', '')\n",
    "df_reviews_title['reviews_title'].head()"
   ]
  },
  {
   "cell_type": "markdown",
   "metadata": {},
   "source": [
    "## Do come counting"
   ]
  },
  {
   "cell_type": "code",
   "execution_count": 11,
   "metadata": {
    "scrolled": true
   },
   "outputs": [
    {
     "name": "stdout",
     "output_type": "stream",
     "text": [
      "Requirement already satisfied: nltk in /opt/anaconda3/lib/python3.8/site-packages (3.6.1)\r\n",
      "Requirement already satisfied: joblib in /opt/anaconda3/lib/python3.8/site-packages (from nltk) (1.0.1)\r\n",
      "Requirement already satisfied: tqdm in /opt/anaconda3/lib/python3.8/site-packages (from nltk) (4.59.0)\r\n",
      "Requirement already satisfied: regex in /opt/anaconda3/lib/python3.8/site-packages (from nltk) (2021.4.4)\r\n",
      "Requirement already satisfied: click in /opt/anaconda3/lib/python3.8/site-packages (from nltk) (7.1.2)\r\n"
     ]
    }
   ],
   "source": [
    "!pip install nltk"
   ]
  },
  {
   "cell_type": "code",
   "execution_count": 12,
   "metadata": {},
   "outputs": [
    {
     "name": "stderr",
     "output_type": "stream",
     "text": [
      "[nltk_data] Downloading package stopwords to\n",
      "[nltk_data]     /Users/takasugi/nltk_data...\n",
      "[nltk_data]   Package stopwords is already up-to-date!\n"
     ]
    },
    {
     "data": {
      "text/plain": [
       "True"
      ]
     },
     "execution_count": 12,
     "metadata": {},
     "output_type": "execute_result"
    }
   ],
   "source": [
    "import nltk\n",
    "\n",
    "nltk.download('stopwords')"
   ]
  },
  {
   "cell_type": "code",
   "execution_count": 13,
   "metadata": {},
   "outputs": [
    {
     "data": {
      "text/plain": [
       "list"
      ]
     },
     "execution_count": 13,
     "metadata": {},
     "output_type": "execute_result"
    }
   ],
   "source": [
    "# import stop words\n",
    "\n",
    "from nltk.corpus import stopwords\n",
    "\n",
    "stop = stopwords.words('english')\n",
    "type(stop)"
   ]
  },
  {
   "cell_type": "code",
   "execution_count": 14,
   "metadata": {},
   "outputs": [],
   "source": [
    "# extend stop words\n",
    "new=['bit', 'think', 'something','episode','serie','nan','watch','dont','feel','thing','really','lot','many','netflix','even','see','made','much','keep','im'\n",
    ",'every','nan nan','got','ive','u','may','2','know','get','would','say','well','seen','that','yes','couldnt','go','didnt','everything','still','nothing','way','far','one','game']\n",
    "stop.extend(new)\n"
   ]
  },
  {
   "cell_type": "code",
   "execution_count": 15,
   "metadata": {},
   "outputs": [
    {
     "name": "stdout",
     "output_type": "stream",
     "text": [
      "['i', 'me', 'my', 'myself', 'we', 'our', 'ours', 'ourselves', 'you', \"you're\", \"you've\", \"you'll\", \"you'd\", 'your', 'yours', 'yourself', 'yourselves', 'he', 'him', 'his', 'himself', 'she', \"she's\", 'her', 'hers', 'herself', 'it', \"it's\", 'its', 'itself', 'they', 'them', 'their', 'theirs', 'themselves', 'what', 'which', 'who', 'whom', 'this', 'that', \"that'll\", 'these', 'those', 'am', 'is', 'are', 'was', 'were', 'be', 'been', 'being', 'have', 'has', 'had', 'having', 'do', 'does', 'did', 'doing', 'a', 'an', 'the', 'and', 'but', 'if', 'or', 'because', 'as', 'until', 'while', 'of', 'at', 'by', 'for', 'with', 'about', 'against', 'between', 'into', 'through', 'during', 'before', 'after', 'above', 'below', 'to', 'from', 'up', 'down', 'in', 'out', 'on', 'off', 'over', 'under', 'again', 'further', 'then', 'once', 'here', 'there', 'when', 'where', 'why', 'how', 'all', 'any', 'both', 'each', 'few', 'more', 'most', 'other', 'some', 'such', 'no', 'nor', 'not', 'only', 'own', 'same', 'so', 'than', 'too', 'very', 's', 't', 'can', 'will', 'just', 'don', \"don't\", 'should', \"should've\", 'now', 'd', 'll', 'm', 'o', 're', 've', 'y', 'ain', 'aren', \"aren't\", 'couldn', \"couldn't\", 'didn', \"didn't\", 'doesn', \"doesn't\", 'hadn', \"hadn't\", 'hasn', \"hasn't\", 'haven', \"haven't\", 'isn', \"isn't\", 'ma', 'mightn', \"mightn't\", 'mustn', \"mustn't\", 'needn', \"needn't\", 'shan', \"shan't\", 'shouldn', \"shouldn't\", 'wasn', \"wasn't\", 'weren', \"weren't\", 'won', \"won't\", 'wouldn', \"wouldn't\", 'bit', 'think', 'something', 'episode', 'serie', 'nan', 'watch', 'dont', 'feel', 'thing', 'really', 'lot', 'many', 'netflix', 'even', 'see', 'made', 'much', 'keep', 'im', 'every', 'nan nan', 'got', 'ive', 'u', 'may', '2', 'know', 'get', 'would', 'say', 'well', 'seen', 'that', 'yes', 'couldnt', 'go', 'didnt', 'everything', 'still', 'nothing', 'way', 'far', 'one', 'game']\n"
     ]
    }
   ],
   "source": [
    "print(stop)"
   ]
  },
  {
   "cell_type": "code",
   "execution_count": 16,
   "metadata": {
    "scrolled": true
   },
   "outputs": [
    {
     "data": {
      "text/plain": [
       "0             never dullbut let kids\n",
       "1                     new tv classic\n",
       "2                                   \n",
       "3    hell theres rules hell deoksu 7\n",
       "4          trust never anything like\n",
       "Name: reviews_title, dtype: object"
      ]
     },
     "execution_count": 16,
     "metadata": {},
     "output_type": "execute_result"
    }
   ],
   "source": [
    "# removing stop words in sentence\n",
    "df_reviews_title['reviews_title']= df_reviews_title['reviews_title'].apply(\n",
    "    lambda ttl:  \" \".join(wrd for wrd in ttl.split() if wrd not in stop))\n",
    "df_reviews_title['reviews_title'].head()"
   ]
  },
  {
   "cell_type": "code",
   "execution_count": 17,
   "metadata": {},
   "outputs": [
    {
     "data": {
      "text/plain": [
       "'never dullbut let kids new tv classic  hell theres rules hell deoksu 7 trust never anything like games die violent funny atypical k drama good please korean movie oldboy 8 started strong ended disoriented good concept solid excecution 10th time father give strength good enough close perfect amazing perfect beautiful lovely addicting violent implausible oddly engrossing storyline series unique creative spin similar films like battle royale hunger games lord flies fantastic truly unique show true social commentary humanity competition avarice life excellent new korean series concept viewers enjoy highly recommended ruthless addictive korean soap opera meets hunger games pretty good series woouuuughhhhh wrong skeptical tense commentary societys debts beautiful court calamari squite good childrens games never exciting first half decent overstaythe games lost appeals 5th fun horror show path good parasite violent looks like intense entertaining thriller life greed good writing steals limelight starts amazing ep05 loses drive understand excellent series overall excellent series hidden gem beginning stupid gets better nice tv show great moments great addictive series great perfect good though certainly original timeless story done bloody story isnt everyone worth loved squid different brilliant must desk george washington overhyped theres alot good shows nowadays good original tv show surpasses hype overhyped production mixtape algorithm wow great concept bad acting best show first 3 episodes series obvious becomes doppelganger animal world phenomenal korean drama terrific survival drama wellacted engrossing writing little sloppy pretentious great show ep 3 multiple attempts going except last intense innovative concept finished hastily compelling originality good masterful series showcases feelings humankind greediness capitalism masterclass hiccups hell salvation lord flies x man seasonsand offence defence two thirds great third squid drab squid pro quo ingenious immensely bingeable thriller series korea interesting anything hollywood wellmade film intense radically abstract good favourite player pressure another korean hit original experience description show wrong overrated excellent secret right integrants team strongest opinion bad taste violence porn decent korean adventure drama emphasis drama kaiji ripoff alright big concept fully developed smell racism straight 10 squid tvs next obsession must fantastic wheres lee byunghun credit imdb dystopian tropes okay drama weak ending enthralling entertaining experience compelling fun show popular original korean dialogue battle royale meets hunger games excellent last omg double standards celebrating todays social abyss pretending totally moral original watchable nice dive korean cinema binged meh maybe greatif reverse nice amazing series went problems good bad ugly joins saw hunger games instant classic deserves hype great virgins genre happily bandwagon deft writing fine craftmanship worth hype interresting special squid genius show gg second half dumb silly kids level stuff suitable kids hardhitting human story shown fun interesting avoid spoilers otherwise show falls apart completely quite good overhyped entertains educates shocks along bring darkness real page turner book stellar storytelling mehh good flawed must marathon worthy popular right reasons brutal dark might disturbing entertaining ruthless cruel squid break nervous system part excellent bingeworthy series rave reviews battle royale though lets honest slowly told survival series best year overrated change awesome middle beginning end meh interesting issues starts bang brilliant television squid another korean gem decent weekend play squid vs alice borderland fun surprisingly emotional end vips hey remember name oh ill lam must good series upto hype better production team lackings alot masterpiece major let phenomenal big budget window dressing deserving hype hated loved wrong reasons highly overrated garbage good time good okay humans real hypocrites modern day twilight zone hollow pop art masterpiece good enough squid aka end lame emotional roller coaster ride onion show layer reveals disturbing fact solid 7 good excellent drama despair deception isnt original done words outstanding childs play 1010 great tv series must unlike series watched definitely deserving high rating good deed goes unpunished okish kind overrated decent aiming high falling short better alice borderland gruesome sometimes also emotional another interesting story knew crawl potent trope hardcore stereotype asian show binge worthy show annoying police officer great great amazing aspects horrible others interesting start overatayed welcome great perfect good starting terrible ending good starting terrible ending rather good gawdthe english dubbing crazy funny moments depth show bares truth humanity physiological thriller anime style starts slow redeems starts strong gets pretty weak end mid lost acting fabulous hard find level nowadays op show except vips entertainment entertainment entertainment series real entertainment luckiest unlucky finished squid  near masterpiece hyped okay kids games survival clever disturbing provocative excellent characters bad gum red light green light yikes okay upset great show almost perfectalmost human 8 6 7  money human incentive meh pretty must absolutely riveting show difficult another stupid metaphor capitalism brilliance propaganda right foreign shows another blinder korea collective hallucination brilliant enjoyable amazing show better money heist good incredible dubbed version review first totally pointless first episodes 10 original language subtitles changed rating goodbadgoodbadgoodbadgoodbadgoodbad completely overrated love korean thriller drama exhausting entertaining lame 79 addicting problems decent korean show seriously must good show wonderful korean series great show fantastic story brilliant direction tiny problem huh best acting different change dark disturbing interesting compulsive worth w10w w10w decent first half masterful second half last 1010 great start bad finish shockingly good thriller ending weak shallow plot seemingly mimicked series bloodycolorful writer director show psychopath probably best show 2021 amazing series wow top notch show good fun different hell squeamish dumb variant death games liked tip review movie premyy honest review could better hunger games revisited thought provoking amazing show fun plot makes sense best korean series ever outstanding new creative series btec black mirror bloody masterpiece good pasolini better subject absolutely atrocious amazing show must truly engaging horrific look reality wellmade slow paced addictive worth binge great binge agree vips weird unique show first 6 eps great last 3 lame perfection mix things already less story masterfully told redemption human frailty future cinematography dark intense battle royale cliche redeeming points updated take old idea good show genius end worthy rest squid review ultimate changer korean show must dissapointing ending artistic storytelling visual masterpiece good show ending sucked balls pardon french amazing show amazing someone please update correct actors imdb page wrong right actors getting credit0 pointlessly bloody compassion adrenaline good end limp finish line predictable new standardgreat mediocre despite intriguing premise series iliterate audience misogynistic ageist racist brain rot aboard money heist train amazing different absolute garbage shows weve missing totally predictable long slow paced alright unique league great show poor acting great decision making violence  excellent written acted lacking likable characters lesbians love predictable last 3 episodes conclude squander stupid games stupid people good loved story intriguing dubbing poor poor idea new good show super hyped though great show highly overrated show violence definitely must havent getting others seeing totally bingeworthy epic tv show blahhhh satire korean society nostalgia boring slightly overrated  entertaining slow poor plot pleasant thrilling surprise lack intense death life games money perfect amazing quality show extremely suspenseful saw meets oldboy nutshell overhyped interesting insight shocks pulls show history final reveal open yet favourite korean shows meh wondering acting bad lost korean hype 46 billion squid saw rip geniuses underwhelming predictable 2hr movie converted 9hr series started great predictable wrapped quickly another gem south korea hype overrated ending s01e08 stupid hole search plot wow good great shoot korea extremely good dark action thriller except major flaw outstanding absolute masterpiece hell love outstanding series captures best features contemporaries enjoyed single episodes excellent series magnificent short show magnificent show average thriller class cameos great idea executed outdated trope top acting great marketing subtitles dub people  fairtomiddling darker hunger games stupid good find onboard week awesome show quirks original creative downhill half innovative overrated show definitely worth time timeless piece art interesting entertaining masterpiece please solid started serious flare lost momentum predictable overrated hype overhyped disappointing entertaining couldve better good vip written korean drama great acting okay terrible ending done times ending stupid wow man este show es fantástico triste potential poor mans hunger games fantastic series let slightly meh finale word description either choose money love humanity awesome decent show enjoyable show korea outdone masterpiece absorbing masterpiece masterpieces shocked gloriously eccentric almost perfect fails stick bigger idea different engaging 88 6 7 average tldr review people hurry hype hype hype blue masterpiece squid schmid okay vips showed incredible listen vip reviews read good cop dies done times fantastic story makes thinkand masterpiece excellent series tried like friends decent show albeit somewhat overhyped overrated trash whats hype  intelligent thoughtful violent interesting enjoyable point faint heart deserves credits good great playground politics grown ups interesting besiide games plau visually conceptually stunning compelling interesting premise thats expertly crafted around ridiculous nonsense bad korean series stunning television holes bad great either masterpiece great job squid life confused overrated garbage hyped worth great potential ruined overacting wow fantastic showbut loved great show definitely worth totally unique thrilling series 1010 best new show current decade great show plot twists saw dubbed hype show words torture east netflixs best series 2021 good wanted give 6 okay exceptional drama season coming original idea cliché galore brilliant must battle royaleesque death series first korean drama experience putting deserved popularity gruesome basic like intended audience bravo korea usa momwife fan funny games wow stop westernisingstop creepy indian disturbing works relatable death trap inconsistent nice time 6 best ever tv shows history suspenseful exciting overrated typical kdrama world economic forum documentary 4 mini series slow times win play boring overrated incredible show fails stick landing trash bad acting foolish composition need strong stomach must scarily accurate perfect originality atrocious translation unique gripping loved amazing meh awesomeloved great visuals mediocre writing word good absolutely loved fine solid like youve cool concept cheesy great show terrible ending deserved 10 rating amazing weak perfect decent show whole fun prizes insightful interesting ill nightmares average thriller fabulous make things banned give prepare anxious saw tiktok total waste time good show almost perfect takeshis castle armed munitions entertaining though ending lacked movie humanity ending given 19 entertaining like show youre right head fantastic show let eps daily life projection overacted overrated perfectly crafted seemingly inspiring last refreshing new story lines disturbing formula done great production dissapointment ignore multiple script holes could good bomb season please arguably best show nextflix movies based reality life film departs social reality masterfully crafted story human nature desperation vips guest sucks flawed brilliant suspenseful best show watched year banal gets hollywood forgot bad produced entertaining enough probably better movie predictable awesome breaking bad original interpretation familiar concept depressing inducing violence among kids couldve better 15 powerful yet flawed critique capitalism recommend starts weird gets good end poor must kdrama best tv series 2021 copy cat brutally brilliant come stay message great suspense throughout ending worth kills thrill attachments characters old idea gold worth watching overall pretty good first episodes last makes show worse guess nobody reads books masterpiece winner good show worth watching believe hype binge watched day great idea terrible execution utterly boring good invest characters everyone thank park haesoo great  prepare like unlikable character good nearly great show unique innovation best taskmaster meets battle royale meets purge titanic nine episodes woah disturbing brutal entertaining best series nice show first korean programme loved enjoyable disappointing reveals best show 2021 like bet horses lower animals theres someone wholl bet real sk drama boring horrible acting predictable twists trash main character wow watchable overrated predictible enjoyable could better speed racer esque dubbed annoying oh moral dilemmas bingeworthy never let perfect great cult classic good thrilling ride stylish disgusting show show lives hype incredible show vips spine chilling vip inaccurate portrayal intresting violent good episodes long guessing childish violence exciting dubbed version new idea nice plot ott acting spoils intriguing story enjoyed alive love squid fizzles mid enjoyable addictive give subtitles great korean drama start watching squid best show 2021 overrated masterpiece loved squid revolvers speechless obsessed change name stupid success mean e1e7 great kdrama debut best web series little overhyped decent kids possible outside hollywood standard trash unusual violent series hyped like disney movie damp squib different alice borderland set tofail giving straight 10 super content finest show squid tale human emotions debt praiseworthy drama could 8 9 good show new complete dark series talk wild ride ending left unsatisfied lackluster doesnt follow rules seems great untill 4 brilliant 100 korean subtitles good show plenty potential good show prefer alice borderland greatest original best show ever positive surprise decent good immoral hard like obsessed  best long time overhyped main concept social exploitation forget mesmerizing best show year last 10 mins show best described entertaining deep everyone saying no1 wake hyped glossy fare torture aficionados ok kung fu hustle better pretty good pretty predictable fun ended poorly modern take das capital ignore naysayers definitely worth overrated bad must finished waste time brilliant work last destroyed build fuss complete waste time 10 disturbing logic whatsoever perhaps good show ruined translation pretty good show fantastic entertaining bingeable tv series overall great show waste time new concept show thrill suspense backround score striking footnote history parasite meets hunger games exoectable boring worth time cool brilliant decent show hype decent show hype squid deserves hype  best series watched average series poor acting like idea interesting real stinker great story failed meet expectations vip spoiled atill want end love want spoil great series good television could great wow overdub come long great show violent mine gganbu overrated worth time best since remember waste time great simply overratedjust hype loved great latter part season average goodfor wow captivating anything money faint heart sae byeok never anymore overrated gore garbage good predictable solid 1st half rest boring predictable entertaining show spectacular gore fest done death series impressive dramatic traumatic great show early second season syndrome big surprise written dark super surprise 9510 boring core waste time hwang donghyuk right seriously excellent start disappointing finale great start dissapointed ending movie pretty good main character maybe stupidest character history tv shows creative yet grounded great movie time classic unique takashis castle story severe consequences people pleasing innovation instant classic worth hype awesome terrible pretty horrible amazing beyond doubt cult classic brilliant meh could faster binge worthy battle royale hunger games modern day korea fantasy story told times less obvious plot points amazing series meh smart intriguing adult alice borderland better alice borderland loved wasnt expecting anything surprised hype captivating brutal critical message society vips masked singer cannot act suspense key factor series best show 2021 fun hyped sooo adult faint hearted koreans disappoint overrated series highly recommended worst tv show ever deadly debtors prison pathological gamblers amazing series ending stupid world bestest show ever overrated oh korea youve gone done winner good vips mean woooh must shy perfection movie  overrated surprisingly mindblowing divides people squid hype addictive exciting basically hunger games good great def 8 plus hard like battle royale meets lost little slow times genrous rating deserves 5 interesting amazing tv series ever loved parasite alice borderland good show hidden gem plays mind starts 9 stars ending entertaining original hunger games meet platform predictable cliche overrated breathtaking kdrama shocked west ruined ending overrated tv show incredible immersive gem good interesting overall great acting great set changer binge worthy boring start death popularity copy saw hostel explained worth second time 7 jumped shark overrated awesome best series ever watched whole life rubbish perfect amount class gore squid brilliant web series 2021 creepy horrerscifi thriller completely overhyped sorry exists decent great show like series great vips super cringy 1 show hands great start awefull end brilliant series predictable plot original great depressing masterpiece great series vip worthy binge havent slept stop watching nwo great idea bad execution nonsense series deep meaning show foreshadowing addictive different amazing series kaiji inspired film bad binge worthy gripping ep 1 totally exaggerated ratings childhood games deadly twist phone run battery best show artistic integrity loses points worst series loooong long time sick tiring insightful heartbreaking exploration savagery capitalism rated high horrible overrated overhyped good vipos vip casting script ruins show hard harsh horrific great movie stephen king first best written shows time nice refreshing mixture genres form brand new standard amazing like kind movies korea bingeworthy ok entertaining worth hype bar continues sink easily amused worth overrated nice ideas last refreshing goodyesfantasticmaybe close 10 lots spoilers good strong start poor finish strong start middle big surprise hit 2021 engaging original give hype amazing probably best show best series last 5 years anticlimactic thrill ride good show best tv marbles awesome show wish 100 korean blood gore social commentary everyone raving squid games totally overrated good overrated amazing hype simple metric rating show good believe hype fully time waste predictable story thia web release 2015 2016 must hail dontlt time korean battle royale vibes poor choices drama people loving true story great show masterpiece series best series fuss brilliant perfect interesting stupid idea rich completely overrated great fun forget message wrong finale backgrounds character matter better expected entertaining overrated overhyped voiceover disney atrocious acting take back bad review everyone hating vips predictable subtitles need accurate consistent worst climax unbelievable interesting version hunger games shiny empty disturbing emotional entertaining rollercoaster loved vips people confused turn cruel selfish violent good movie violence graphic fast desperate humans turn murderers yet another show showcase pure evil hidden humans soul stock characters predictable drama weaken good social commentary master piece korean actors nailed outsiders spoiled 120 days good show fundamental flaw 3 people missing good thriller scenes predictable  hyped sadistic show mass murdering artistically produced recommended time series brilliant bad ending entertaining thrilling slightly average absolute masterpiece could 10 without vip acting mindless violence boring boring boring rediculous nonsense amazing show korea good startbad ending captivating intense hunger games overrated expected high scored series exhilarating great show excellent costumes horrible vip acting edge seat boring great set design else multiply filmmakers squid games plot holes bothering overhyped typical overhyped show never thought end series day amazing story lines bad characters bad ending great work great show terrible ending show whats hype absolute rubbish bloody series bloody best show ever watched best shows modern take hunger games new worthy zzzzzzz 9 top series 2021 good best games interesting show meh wasnt going overrated af best korean series vips ruined nice concept wf outstanding asap hyped amazing conceptwho hired vip actors skip parts make end awesome quite sure reason became popular korean show incredible best korea incomplete masterclass good psychological horror thriller  morbid unforgiving tragic wow wow good show poor mans dream nightmare steroids hang overrated story told multiple times excellent commentary capitalism mediocre best almost perfect bogus boring best korean show  good sorry original poor ending awesome start finish great show 65 point 7 good story bad acting another stupid overrating korean drama good overrated beautifully disturbing  enjoyed drama  best series ages super underwhelming wouldnt play million squid time fast forwarded great concept slow paced piece garbage good short series everyone frothing mouth show great series good weak final fun verry predictable rated heck dissimilar concept show provocative expected good want season wait  million squid says love best ever 710 last violent disturbed netflixs best ignorance bliss shallow plot characters interesting beginning amazing g series positive points small negative points predictable snoozefest kubrick tedious toxic ultimately empty boring deserves praise sick series garbish awesome excellent mind blowing wow ride bizzare zero entertainment awesome series  remarkable outstanding definitely worth time symbols overrated sum final blackpink popular worth another great korean idea masterpiece fabulous unreal wonderful show south korea world masterpiece loved show unpredictable impressive lines overrated good good overrated true reflection life great show pretty boring show overhyped overhyped ok show kill hours starts good ends horribly great show let things looked hype plot hole plot armour good great series doesnt series love hoyeon jung acting debut hype ok good alice borderland interesting attracting pleasant joy great binge show captivating breath fresh air good flaws intricate amd twisted original good idea  ok show great show joyride emotions incredible show kaiji without psychological complexity binge watched weekend beautiful live action anime excellent script overrated thrilling complex coherent sorry sorry anime kaijis korean version poor predictable good worth hype massively overrated show loved reminiscent old boy audition absolutely amazing ok braindead visually striking great story great movie ending add enjoyable societycritical psycho thriller series worth watching voice overs annoying 1010 atrocious acting entertaining great crazy world captured red light green light must slow fan worth hype flawed worth watching great dramatic incredible start horrible finish half episodes promising total disappointing solid 885 horrifying fantastic entertaining flawed definitely bad show hype unexpected hit history best good memorable worst among genre best film year  overrated show ever great series bad english actors overrated boring shows ever watched original compelling drivel genocide denounce genocide horrifying overreaching bold definitely hype substance overhyped typical series amazing good expected eye rolling ending wow violent satanic filth good hype interesting idea decent execution running man battle royale baby good best death stories howd popular fantastic enjoyed minute show great exciting worth sticking apathy greatest disease growing concern could gold crazy cliche definitely 83 rating best tv show ever watched loved begin must basically korean kaiji deserves 10 giving 9 stars bc vips rough great representation world exceptional watchable violence hyped 10 hype full serious give 0 star could amazing better strong premise mediocre execution finest webseries great show ending wasnt best however recommend good episodes mostly disappointing wow wow good overrated possible plot hole emotionally degrading great boring slow love material another seasons easy interesting beautifully hooks exciting show start cant stop regret overhyped good weekend binge cliche overhyped overrated best time good better shows area best show ever ok show korean version black mirror hunger games put msg dish hype kind overhyped good meh try hard good good hooked start good okay amazing show blast mixed disappointment easily 1010 best web series story characters simplistic disappointing ending otherwise good series point police officer frontman host brother amazing show definitely worth experiencing fav part red light green light bravo english alright doesnt deserve hype meh creepy enough answers wow overrated want season good strong show squids laaaaaaaaaaaaaaaaaaaaaaaaaame awwww loved masterpiece edit vips needed makes question daily life need 2nd season everyone consumption promising doesnt quite deliver wished could unwatch est need hypes misleading never underestimate te power big groups keeps edge seat kind show take time fly stuff life average series great moments willing take chance best description uncomfortably genius quite disturbing nice show based anime good premise butspoilers first amazing show humanity friendship betrayal comedy ending rubbish good til epidode 8 vip cringe level care vips performance unique idea boring times great show horrible vips donghyuk new kubrick like great premise poorly executedtoo hype shed manly tears utterly stupid complete waste time concept old worth watching boring shallow cry overrated hollywood dry idea could lost bad acting vips horrible ridiculous mind blowing amusing yet predictable sometimes dull bad copy kaiji bang average overhyped great vips arrived wouldve excellent watched alice borderlands great show good predictable great vip came good idea original great show refreshing concept cool series maybe vip sucked sure entertaining human behavior real protagonist plot backdrop season fly moon let play among stars elaborate joke good found deep youre shallow amazing show started wonderfully ended stupidly bad show predictable angry wasting 9 hours close masterpiece people make alice borderland lovers step new came none garbage best show bad enjoyable atmospheric show wide audience predictable master pace slow start worth watching stop watching walking dead amazing korean tv shows future honestly fuss decent meh brilliant show phenomenal start recommend low class series definitely time incredible incredible noise outstanding series full emotions thrilling moments potential best series failed last perfect dystopia new idea good full holes great movie doesnt worth hype brilliant masterpiece eh waste time best korean film starts becomes predictable end series seriously gem great psycho triller movie plot went bad towards end 6 superb episodes 3 last ones crap lots emotions hum  amazing visuals paired mediocre plot horrible options cant fuss almost perfect uncut gems meets parasite meets eyes wide shut meets battle royale meets platform wise consider trash literally almost perfect enough psycho ideas pretty meh brilliant show please korean first six episodes gold glass shatters underneath good issue understand popular waste time predictable great show disappointing ending must series series last two episodes could onetoo lengthy interval anime people havent watched anime overrated absolutely great show masterpiece stupid show horrible translation squid legendary series overrated predictable fun great binge best web series fine need 1 worth believe hype overblown awful entertaining done perfect almost almost perfect real picture human beings sad story disturbing squid lame episodes line wasteful build going anyway show vips dusty though promosinf beginning disappointing end great rubbish great plot decent acting vip vip question great show annoying character whole nother level deadlygame dramas overrated overrated overrated love good damp good never saw type webseries beautiful unpleasant excellent mindblowing bafflingly bad acting thrlling bone chilling nailbiting want second third fourth season please 83 people serious judgment issues new older best tv show masterpiece gore secondary little little garbage bad loved boring predictable bad ripoff hunger games saw series love episodes 16 great rest werent attention grabbing first thought great show minor hiccups finale kinda ruined best series vips good binge worthy amazing series amazing captivating throughout never dull moment amazing web series webseries deserve great show wow binged please remake ruin wow redundant conversations buggy plots best show ever wontherfull excellent please make season best series 2021 good better crying korea thumbs overall amazing show logical nonsenses ppl complaining vips hilarious okay good barely fell short masterpiece worth hype overrated asf good story bad good bad either  nice miss birthday 4th gamemy heart melted good pretty dang good zero sum amazing great movie blabla squid review another mediocre shownot worth hype confusing drama like award watched curiosity overrated decent thrilling exiting show good plot twists allaround brilliant cant brilliant thriller great show great series start finish word extraordinary word extraordinary general review warning spoiler alert general review message reason watched show ever bloody show fantastic like ending though good show bad parts best series ever come across overrated japanese copy lord overrated woow wow jaw dropping scenes left right squid knew assignment original gift south korea thank worth hype sloppy characters gripping exciting rubbish trash  original creative last major let great worth 8510 excellent battle royale overhyped childplay live hype surprisingly good reminds snowpiercer chris evans cool story till halfway ridiculous ending awful vips obvious plot predictable plot holes long time tv series like job done flawed series great early moments missing pretty dull slow rather annoying great show shock value wears quickly excellent series bad ending overhyped piece trash worst betrayal time show hunger games steroids wtf excellent show leave wanting people around world talk worth absolutely amazing mind blowing step sprint fell short finish line wow excellent series except vip acting quality drama mind critics basically ok interesting weak ending rare gem postdictive programming solid characters predictable sadistic gross ehh best show 2021 bingeworthy shocking dubbed mr bean bedroom frustrating new idea somewhat decent show cinematic master piece honest review entertaining understand hype must korean series violence problem sooo good captivating gory critique capitalism hunger games parasite squid recycled ideas place twisted intriguing good korean series terrible overrated great masterpiece best series long time overrated okay spoiler wow wow dream horror fans show adds morals captivating buildup vips ruin good predictable great somewhat disturbing cant stop watching worth hype overhyped watched day ultra violence excelent overrated 810 end show best watched recent years dissapointing amazing end outstanding decent worth watching vips stop watching till end yet another emperors new clothes kind movie south korea cult classic overrated expectation repetitious beyond 1st sign universe great great vips acting good proof good general bad predictable hooked ride 1 done beforebetter vips sucked ruin series awesome cause psychological damage young people story rich ppl killing poor ppl fun perfect entertaining gihun played lee jungjae boring games everyones saint predictable enjoyable great show first korean tv series wao wow great start goes downhill worth hype good scenes necessary amazing acting enjoyable overrated seriously flawed overrated good great show worst drama ever worth watchbut advisories good show 7 worth bingewatching definitely wellmade shows korea wow great show overall trivial sensational production errors best series 2021 keeps edge seat overrated series waste time blue danube whole new meaning great plot acting eye watering wonderful loved great suggestion make great show entertaining eyes hurt vip hate entertaining addictive series occasionally shallow plot bad angry overrated awesome good entertaining series miscalculation extremely overrated fantastic good show conflicted stars vips perfect great hesitate hyped series ever genius best show terrible ending 910 first review fantastic series loving finally good show trash series predictable boring bad acting great show w obvious issue kaiji ultimate survivor almost 1010 visually appealing new plotdriven actionpacked ultimately shallow korean tv shows amazing overrate reaction highly recommended garbage owesome best kdrama 2021 good super great exciting series wow confused show overrated bloody excellent hyped pretty solid storyline bad stupid ending ruined show weekend must movie series original vips acting horrible bad best mind blowing drama series ever wow hooked farfetched story great good best need season excellent making thrilling awesome series great series push first 10 thumbs 067 step story things good concept new web series world animesquid potential disturbing movie squid sequela okay show doesnt hype tho captivating yet unsatisfactory brilliant series shows money powerful best series short handed describe pretty amazing roller coaster emotions overall pretty good fades away end loopholes great film best korean drama kingdom pitfalls irritating gripping consistently engaging boring full masterpiece blockbuster series 2021 great show wow acting gets bad 7 viral perfect amazing end soo excited wowworthy series kalash jamila iraq wish part two asun squid amazing squid show trash great thriller series analysis squid show everyone amazing literally mind blowing show depressed episodes best till last ok nice ridiculous worried humanity 40 generic pretty overrated story choreography masterpiece vips irrelevant 2010 amazing show bingeworthy overrated great moments fantastic show mind blowing series plagiasm great concept bad acting vip sucked great series mediocre ending fantastic shocked brilliant disturbing intriguing entertaining great show like trytobeedgy student film budget hearttouchingemotional twisted tooooooooo good story pretty good ending disappointed interesting hooked suspence triller dynamic good show disappointing ending boring meet expectations binge worthy amazing series powerful good show blown away jaw dropping moments wish could give 75 stars hope theres second season third film make disappointed story trust relationship expected korean entertainment 1010 hype squid masterpiece recommended wow squid financial great fly moon expressive first ep good started raining plot holes surprising overall enjoyed could solid 8 youll lose brain cells watching gganbu wow fun disappointing bits spoilers amazing binged night love started great let end unexpected tv show modern literature engaging show fantastically horrific amazing show stupid vips guilty great show messed fantastic show binge worthy gorefest amazing characters exciting original series story morals hypocrisy gripping gripping best capture humanist heart best shows recently come trash wow felt like watching anime live laugh love witness murder must fabulous web series korea good content good interesting story suspense easy predict next squid review totally disappointed reviews extremly pointless waste korean time fantastic korean version hunger games copycat love show needs recreated usa nollywood help symbolisms good disappointed best moment good emotionally draining absolutely loved great  amazing show awful translation ali revive saebyeok best ever korean drama vips bad acting uncle dead slow start stick sucks overrated korean dramatic adventurousish series great show 1010 biasa aja intacto 2001 spanish film inspiration korean hungergames copy worst series mix parasite platform never saw coming great show amazing show great acting protagonists dark twisted depressing yet incredibly boring fabulous high adrenaline show amazing series awesome actors south korea never ever gave 1010 1010 vips cool film problem bad words thoughtprovoking fastpaced drama offer good extremely directed thriller boring lots plot holes worth buzz amazing overrated comedy drama show adults great bonita probably best death show disappointment good overrated bloody good binge watched entire season tasteless illegal achievements absolutely amazing great show great job korean director disappointingly mundane adhshsjdbbsjsbsbdb addictive season doubted first could stop watching amazingliterally mind blowing worth ok killed last episodes  could better awesome cried amazing amazing tv show without western bs strong start lousy finish insanely good overrated spoiler free review richard bachman overhype central needs negative reviews bad squid games review keeps edge seat best web series ever love nive movie muck brown overrated worst scenario tarantino shot major stroke season two ruined happy ending great show entertain best korean ok best rated painfully relevant meaningful best dram twist player 001 unexpectable life add actors depressing predictable missing full excitement enthusiasm loved great filmmaking bad storytelling horrible show pure evil masterpiece unique awesome bad copy alice borderland ok thoroughly enjoyed disturbing grazing majesty overrated could cool overrated yet compelling ending expected hate main character extensive violent scenes reason love series overrated predictable god good plot addicted slightly confused bingeable extremely overhyped definitely amazing amazing good strange success great series lame ending great show watchable waste time watching created imdb account rate true correct overhyped bad loved part mediocre tv show hint classic music easily impressed love great moral messages engaging perfect missing key things cheap doesnt stick landing simple plot great execution bruh money meaning worst hype squeamish highly overrated trash epic win basic story amazing adrenaline rush overhyped series hyped reason loved 81 rating ts strong 70 good entertaining gods disturbing bizarre recycling program brilliant last half hour morbidity marketing predictable horrible acting squirm gamejust awf bad serries bad entertained action packed void character lacking rhythm boring af cool korean hunger games seriously lame wowtotally binged tedious overatted predictable stereotyped sadistic childish entertaining lacks good games please alice borderland instead excellent cast list hate fans best lipsync ever surprise lacking depth struggle finish 8 episodes top class show waste time watching good idea sooooo slow predicatable great show vip cast straight room running man long walk deeir lost translation another christophobic series understand people gone crazy intense show players chose play perfect except vips overhyped vips gotta wellmade personas boring finish boring predictable definition overhyped expectation zzz extremely depicted corrupted desire capital excellent drama binge worthy main character ruins show first korean drama damn good hell great bingewatching  hooked outrageous good show english subtitle kinda ruin people mindblowing awesome series unique run never unsee movie make curious  best original shows come sometimes hype makes better truly predictable madness real understand hype awesome show show cannot fault maybe public cliche line story shallow good script dummies fantastic together worth time good idea series couple loose ends miss creativity havent hooked hollywood aesome terrible great plot brilliant flawed left empty feeling exciting overhiped korean web series awestruck moment sunk plotholes terribly predictable nice show entirely beliavable great korean show edge seat fantastic show surprisingly good horror story could perfect make gross anyway masterpiece fantastic korean good great show hypocritical real deathgame show fing overrated else fun memes media coverage show worth time overwhelming disappoint inordinate amount hype everyone complaining vip acting end could better mindblowing good please need s2 amazing surprising amazing social commentary viewers real vips good idea scenario disappointing predictable perfect aint respect time next season cant miss premise lost translation  overhyped boring amazing bingeable review best movie kind loved slow waste time ok good 1010 bad lip sync insane exciting almost perfect superb weak logic plot hole best shows period worst show korean cinema overall immature overhyped weeks cant forget show surprisingly good movie moderate slow trope weve derivative obvious dull great surprise westworld fantasy hype payoff nice idea great acting story apart skyrim npcs worst acting ever overrated series wow great show horrible ending overrated series growing terrible overhyped korean audio must worth binge mehinteresting premise poor execution emotional rollercoaster diamond rough korea terrible acting plot holes overrated show parasite meets hunger games meets hostel meets cube ridiculous good show ending fell short good start disappointing ending useless mc great show outclass performance worst series ever watched hell rollercoaster ride amazing good 7 amazingly entertaining amazing best recent shows switch korean audio best shows ever critical series acting vips sucks phenomenal unlike anything ever watched worst ever trash want 8 hours life back rubbish senseless worst ever content internet wasted potential  predictable plot worth hype best kdrama world cant wait season life lesson life money wealth ending strongly suggesting serious yay absolute masterpiece masterpiece  great storyline bad acting slow average storyline masterpiece absolutely brilliant boring disappointing uneventful script writer drank half director gave company end second boredom tv show recommended absolutely beautiful series overhyped good questioning humanity'"
      ]
     },
     "execution_count": 17,
     "metadata": {},
     "output_type": "execute_result"
    }
   ],
   "source": [
    "string = ' '.join(df_reviews_title['reviews_title'])\n",
    "string"
   ]
  },
  {
   "cell_type": "code",
   "execution_count": 18,
   "metadata": {},
   "outputs": [
    {
     "data": {
      "text/plain": [
       "['never',\n",
       " 'dullbut',\n",
       " 'let',\n",
       " 'kids',\n",
       " 'new',\n",
       " 'tv',\n",
       " 'classic',\n",
       " 'hell',\n",
       " 'theres',\n",
       " 'rules',\n",
       " 'hell',\n",
       " 'deoksu',\n",
       " '7',\n",
       " 'trust',\n",
       " 'never',\n",
       " 'anything',\n",
       " 'like',\n",
       " 'games',\n",
       " 'die',\n",
       " 'violent',\n",
       " 'funny',\n",
       " 'atypical',\n",
       " 'k',\n",
       " 'drama',\n",
       " 'good',\n",
       " 'please',\n",
       " 'korean',\n",
       " 'movie',\n",
       " 'oldboy',\n",
       " '8',\n",
       " 'started',\n",
       " 'strong',\n",
       " 'ended',\n",
       " 'disoriented',\n",
       " 'good',\n",
       " 'concept',\n",
       " 'solid',\n",
       " 'excecution',\n",
       " '10th',\n",
       " 'time',\n",
       " 'father',\n",
       " 'give',\n",
       " 'strength',\n",
       " 'good',\n",
       " 'enough',\n",
       " 'close',\n",
       " 'perfect',\n",
       " 'amazing',\n",
       " 'perfect',\n",
       " 'beautiful',\n",
       " 'lovely',\n",
       " 'addicting',\n",
       " 'violent',\n",
       " 'implausible',\n",
       " 'oddly',\n",
       " 'engrossing',\n",
       " 'storyline',\n",
       " 'series',\n",
       " 'unique',\n",
       " 'creative',\n",
       " 'spin',\n",
       " 'similar',\n",
       " 'films',\n",
       " 'like',\n",
       " 'battle',\n",
       " 'royale',\n",
       " 'hunger',\n",
       " 'games',\n",
       " 'lord',\n",
       " 'flies',\n",
       " 'fantastic',\n",
       " 'truly',\n",
       " 'unique',\n",
       " 'show',\n",
       " 'true',\n",
       " 'social',\n",
       " 'commentary',\n",
       " 'humanity',\n",
       " 'competition',\n",
       " 'avarice',\n",
       " 'life',\n",
       " 'excellent',\n",
       " 'new',\n",
       " 'korean',\n",
       " 'series',\n",
       " 'concept',\n",
       " 'viewers',\n",
       " 'enjoy',\n",
       " 'highly',\n",
       " 'recommended',\n",
       " 'ruthless',\n",
       " 'addictive',\n",
       " 'korean',\n",
       " 'soap',\n",
       " 'opera',\n",
       " 'meets',\n",
       " 'hunger',\n",
       " 'games',\n",
       " 'pretty',\n",
       " 'good',\n",
       " 'series',\n",
       " 'woouuuughhhhh',\n",
       " 'wrong',\n",
       " 'skeptical',\n",
       " 'tense',\n",
       " 'commentary',\n",
       " 'societys',\n",
       " 'debts',\n",
       " 'beautiful',\n",
       " 'court',\n",
       " 'calamari',\n",
       " 'squite',\n",
       " 'good',\n",
       " 'childrens',\n",
       " 'games',\n",
       " 'never',\n",
       " 'exciting',\n",
       " 'first',\n",
       " 'half',\n",
       " 'decent',\n",
       " 'overstaythe',\n",
       " 'games',\n",
       " 'lost',\n",
       " 'appeals',\n",
       " '5th',\n",
       " 'fun',\n",
       " 'horror',\n",
       " 'show',\n",
       " 'path',\n",
       " 'good',\n",
       " 'parasite',\n",
       " 'violent',\n",
       " 'looks',\n",
       " 'like',\n",
       " 'intense',\n",
       " 'entertaining',\n",
       " 'thriller',\n",
       " 'life',\n",
       " 'greed',\n",
       " 'good',\n",
       " 'writing',\n",
       " 'steals',\n",
       " 'limelight',\n",
       " 'starts',\n",
       " 'amazing',\n",
       " 'ep05',\n",
       " 'loses',\n",
       " 'drive',\n",
       " 'understand',\n",
       " 'excellent',\n",
       " 'series',\n",
       " 'overall',\n",
       " 'excellent',\n",
       " 'series',\n",
       " 'hidden',\n",
       " 'gem',\n",
       " 'beginning',\n",
       " 'stupid',\n",
       " 'gets',\n",
       " 'better',\n",
       " 'nice',\n",
       " 'tv',\n",
       " 'show',\n",
       " 'great',\n",
       " 'moments',\n",
       " 'great',\n",
       " 'addictive',\n",
       " 'series',\n",
       " 'great',\n",
       " 'perfect',\n",
       " 'good',\n",
       " 'though',\n",
       " 'certainly',\n",
       " 'original',\n",
       " 'timeless',\n",
       " 'story',\n",
       " 'done',\n",
       " 'bloody',\n",
       " 'story',\n",
       " 'isnt',\n",
       " 'everyone',\n",
       " 'worth',\n",
       " 'loved',\n",
       " 'squid',\n",
       " 'different',\n",
       " 'brilliant',\n",
       " 'must',\n",
       " 'desk',\n",
       " 'george',\n",
       " 'washington',\n",
       " 'overhyped',\n",
       " 'theres',\n",
       " 'alot',\n",
       " 'good',\n",
       " 'shows',\n",
       " 'nowadays',\n",
       " 'good',\n",
       " 'original',\n",
       " 'tv',\n",
       " 'show',\n",
       " 'surpasses',\n",
       " 'hype',\n",
       " 'overhyped',\n",
       " 'production',\n",
       " 'mixtape',\n",
       " 'algorithm',\n",
       " 'wow',\n",
       " 'great',\n",
       " 'concept',\n",
       " 'bad',\n",
       " 'acting',\n",
       " 'best',\n",
       " 'show',\n",
       " 'first',\n",
       " '3',\n",
       " 'episodes',\n",
       " 'series',\n",
       " 'obvious',\n",
       " 'becomes',\n",
       " 'doppelganger',\n",
       " 'animal',\n",
       " 'world',\n",
       " 'phenomenal',\n",
       " 'korean',\n",
       " 'drama',\n",
       " 'terrific',\n",
       " 'survival',\n",
       " 'drama',\n",
       " 'wellacted',\n",
       " 'engrossing',\n",
       " 'writing',\n",
       " 'little',\n",
       " 'sloppy',\n",
       " 'pretentious',\n",
       " 'great',\n",
       " 'show',\n",
       " 'ep',\n",
       " '3',\n",
       " 'multiple',\n",
       " 'attempts',\n",
       " 'going',\n",
       " 'except',\n",
       " 'last',\n",
       " 'intense',\n",
       " 'innovative',\n",
       " 'concept',\n",
       " 'finished',\n",
       " 'hastily',\n",
       " 'compelling',\n",
       " 'originality',\n",
       " 'good',\n",
       " 'masterful',\n",
       " 'series',\n",
       " 'showcases',\n",
       " 'feelings',\n",
       " 'humankind',\n",
       " 'greediness',\n",
       " 'capitalism',\n",
       " 'masterclass',\n",
       " 'hiccups',\n",
       " 'hell',\n",
       " 'salvation',\n",
       " 'lord',\n",
       " 'flies',\n",
       " 'x',\n",
       " 'man',\n",
       " 'seasonsand',\n",
       " 'offence',\n",
       " 'defence',\n",
       " 'two',\n",
       " 'thirds',\n",
       " 'great',\n",
       " 'third',\n",
       " 'squid',\n",
       " 'drab',\n",
       " 'squid',\n",
       " 'pro',\n",
       " 'quo',\n",
       " 'ingenious',\n",
       " 'immensely',\n",
       " 'bingeable',\n",
       " 'thriller',\n",
       " 'series',\n",
       " 'korea',\n",
       " 'interesting',\n",
       " 'anything',\n",
       " 'hollywood',\n",
       " 'wellmade',\n",
       " 'film',\n",
       " 'intense',\n",
       " 'radically',\n",
       " 'abstract',\n",
       " 'good',\n",
       " 'favourite',\n",
       " 'player',\n",
       " 'pressure',\n",
       " 'another',\n",
       " 'korean',\n",
       " 'hit',\n",
       " 'original',\n",
       " 'experience',\n",
       " 'description',\n",
       " 'show',\n",
       " 'wrong',\n",
       " 'overrated',\n",
       " 'excellent',\n",
       " 'secret',\n",
       " 'right',\n",
       " 'integrants',\n",
       " 'team',\n",
       " 'strongest',\n",
       " 'opinion',\n",
       " 'bad',\n",
       " 'taste',\n",
       " 'violence',\n",
       " 'porn',\n",
       " 'decent',\n",
       " 'korean',\n",
       " 'adventure',\n",
       " 'drama',\n",
       " 'emphasis',\n",
       " 'drama',\n",
       " 'kaiji',\n",
       " 'ripoff',\n",
       " 'alright',\n",
       " 'big',\n",
       " 'concept',\n",
       " 'fully',\n",
       " 'developed',\n",
       " 'smell',\n",
       " 'racism',\n",
       " 'straight',\n",
       " '10',\n",
       " 'squid',\n",
       " 'tvs',\n",
       " 'next',\n",
       " 'obsession',\n",
       " 'must',\n",
       " 'fantastic',\n",
       " 'wheres',\n",
       " 'lee',\n",
       " 'byunghun',\n",
       " 'credit',\n",
       " 'imdb',\n",
       " 'dystopian',\n",
       " 'tropes',\n",
       " 'okay',\n",
       " 'drama',\n",
       " 'weak',\n",
       " 'ending',\n",
       " 'enthralling',\n",
       " 'entertaining',\n",
       " 'experience',\n",
       " 'compelling',\n",
       " 'fun',\n",
       " 'show',\n",
       " 'popular',\n",
       " 'original',\n",
       " 'korean',\n",
       " 'dialogue',\n",
       " 'battle',\n",
       " 'royale',\n",
       " 'meets',\n",
       " 'hunger',\n",
       " 'games',\n",
       " 'excellent',\n",
       " 'last',\n",
       " 'omg',\n",
       " 'double',\n",
       " 'standards',\n",
       " 'celebrating',\n",
       " 'todays',\n",
       " 'social',\n",
       " 'abyss',\n",
       " 'pretending',\n",
       " 'totally',\n",
       " 'moral',\n",
       " 'original',\n",
       " 'watchable',\n",
       " 'nice',\n",
       " 'dive',\n",
       " 'korean',\n",
       " 'cinema',\n",
       " 'binged',\n",
       " 'meh',\n",
       " 'maybe',\n",
       " 'greatif',\n",
       " 'reverse',\n",
       " 'nice',\n",
       " 'amazing',\n",
       " 'series',\n",
       " 'went',\n",
       " 'problems',\n",
       " 'good',\n",
       " 'bad',\n",
       " 'ugly',\n",
       " 'joins',\n",
       " 'saw',\n",
       " 'hunger',\n",
       " 'games',\n",
       " 'instant',\n",
       " 'classic',\n",
       " 'deserves',\n",
       " 'hype',\n",
       " 'great',\n",
       " 'virgins',\n",
       " 'genre',\n",
       " 'happily',\n",
       " 'bandwagon',\n",
       " 'deft',\n",
       " 'writing',\n",
       " 'fine',\n",
       " 'craftmanship',\n",
       " 'worth',\n",
       " 'hype',\n",
       " 'interresting',\n",
       " 'special',\n",
       " 'squid',\n",
       " 'genius',\n",
       " 'show',\n",
       " 'gg',\n",
       " 'second',\n",
       " 'half',\n",
       " 'dumb',\n",
       " 'silly',\n",
       " 'kids',\n",
       " 'level',\n",
       " 'stuff',\n",
       " 'suitable',\n",
       " 'kids',\n",
       " 'hardhitting',\n",
       " 'human',\n",
       " 'story',\n",
       " 'shown',\n",
       " 'fun',\n",
       " 'interesting',\n",
       " 'avoid',\n",
       " 'spoilers',\n",
       " 'otherwise',\n",
       " 'show',\n",
       " 'falls',\n",
       " 'apart',\n",
       " 'completely',\n",
       " 'quite',\n",
       " 'good',\n",
       " 'overhyped',\n",
       " 'entertains',\n",
       " 'educates',\n",
       " 'shocks',\n",
       " 'along',\n",
       " 'bring',\n",
       " 'darkness',\n",
       " 'real',\n",
       " 'page',\n",
       " 'turner',\n",
       " 'book',\n",
       " 'stellar',\n",
       " 'storytelling',\n",
       " 'mehh',\n",
       " 'good',\n",
       " 'flawed',\n",
       " 'must',\n",
       " 'marathon',\n",
       " 'worthy',\n",
       " 'popular',\n",
       " 'right',\n",
       " 'reasons',\n",
       " 'brutal',\n",
       " 'dark',\n",
       " 'might',\n",
       " 'disturbing',\n",
       " 'entertaining',\n",
       " 'ruthless',\n",
       " 'cruel',\n",
       " 'squid',\n",
       " 'break',\n",
       " 'nervous',\n",
       " 'system',\n",
       " 'part',\n",
       " 'excellent',\n",
       " 'bingeworthy',\n",
       " 'series',\n",
       " 'rave',\n",
       " 'reviews',\n",
       " 'battle',\n",
       " 'royale',\n",
       " 'though',\n",
       " 'lets',\n",
       " 'honest',\n",
       " 'slowly',\n",
       " 'told',\n",
       " 'survival',\n",
       " 'series',\n",
       " 'best',\n",
       " 'year',\n",
       " 'overrated',\n",
       " 'change',\n",
       " 'awesome',\n",
       " 'middle',\n",
       " 'beginning',\n",
       " 'end',\n",
       " 'meh',\n",
       " 'interesting',\n",
       " 'issues',\n",
       " 'starts',\n",
       " 'bang',\n",
       " 'brilliant',\n",
       " 'television',\n",
       " 'squid',\n",
       " 'another',\n",
       " 'korean',\n",
       " 'gem',\n",
       " 'decent',\n",
       " 'weekend',\n",
       " 'play',\n",
       " 'squid',\n",
       " 'vs',\n",
       " 'alice',\n",
       " 'borderland',\n",
       " 'fun',\n",
       " 'surprisingly',\n",
       " 'emotional',\n",
       " 'end',\n",
       " 'vips',\n",
       " 'hey',\n",
       " 'remember',\n",
       " 'name',\n",
       " 'oh',\n",
       " 'ill',\n",
       " 'lam',\n",
       " 'must',\n",
       " 'good',\n",
       " 'series',\n",
       " 'upto',\n",
       " 'hype',\n",
       " 'better',\n",
       " 'production',\n",
       " 'team',\n",
       " 'lackings',\n",
       " 'alot',\n",
       " 'masterpiece',\n",
       " 'major',\n",
       " 'let',\n",
       " 'phenomenal',\n",
       " 'big',\n",
       " 'budget',\n",
       " 'window',\n",
       " 'dressing',\n",
       " 'deserving',\n",
       " 'hype',\n",
       " 'hated',\n",
       " 'loved',\n",
       " 'wrong',\n",
       " 'reasons',\n",
       " 'highly',\n",
       " 'overrated',\n",
       " 'garbage',\n",
       " 'good',\n",
       " 'time',\n",
       " 'good',\n",
       " 'okay',\n",
       " 'humans',\n",
       " 'real',\n",
       " 'hypocrites',\n",
       " 'modern',\n",
       " 'day',\n",
       " 'twilight',\n",
       " 'zone',\n",
       " 'hollow',\n",
       " 'pop',\n",
       " 'art',\n",
       " 'masterpiece',\n",
       " 'good',\n",
       " 'enough',\n",
       " 'squid',\n",
       " 'aka',\n",
       " 'end',\n",
       " 'lame',\n",
       " 'emotional',\n",
       " 'roller',\n",
       " 'coaster',\n",
       " 'ride',\n",
       " 'onion',\n",
       " 'show',\n",
       " 'layer',\n",
       " 'reveals',\n",
       " 'disturbing',\n",
       " 'fact',\n",
       " 'solid',\n",
       " '7',\n",
       " 'good',\n",
       " 'excellent',\n",
       " 'drama',\n",
       " 'despair',\n",
       " 'deception',\n",
       " 'isnt',\n",
       " 'original',\n",
       " 'done',\n",
       " 'words',\n",
       " 'outstanding',\n",
       " 'childs',\n",
       " 'play',\n",
       " '1010',\n",
       " 'great',\n",
       " 'tv',\n",
       " 'series',\n",
       " 'must',\n",
       " 'unlike',\n",
       " 'series',\n",
       " 'watched',\n",
       " 'definitely',\n",
       " 'deserving',\n",
       " 'high',\n",
       " 'rating',\n",
       " 'good',\n",
       " 'deed',\n",
       " 'goes',\n",
       " 'unpunished',\n",
       " 'okish',\n",
       " 'kind',\n",
       " 'overrated',\n",
       " 'decent',\n",
       " 'aiming',\n",
       " 'high',\n",
       " 'falling',\n",
       " 'short',\n",
       " 'better',\n",
       " 'alice',\n",
       " 'borderland',\n",
       " 'gruesome',\n",
       " 'sometimes',\n",
       " 'also',\n",
       " 'emotional',\n",
       " 'another',\n",
       " 'interesting',\n",
       " 'story',\n",
       " 'knew',\n",
       " 'crawl',\n",
       " 'potent',\n",
       " 'trope',\n",
       " 'hardcore',\n",
       " 'stereotype',\n",
       " 'asian',\n",
       " 'show',\n",
       " 'binge',\n",
       " 'worthy',\n",
       " 'show',\n",
       " 'annoying',\n",
       " 'police',\n",
       " 'officer',\n",
       " 'great',\n",
       " 'great',\n",
       " 'amazing',\n",
       " 'aspects',\n",
       " 'horrible',\n",
       " 'others',\n",
       " 'interesting',\n",
       " 'start',\n",
       " 'overatayed',\n",
       " 'welcome',\n",
       " 'great',\n",
       " 'perfect',\n",
       " 'good',\n",
       " 'starting',\n",
       " 'terrible',\n",
       " 'ending',\n",
       " 'good',\n",
       " 'starting',\n",
       " 'terrible',\n",
       " 'ending',\n",
       " 'rather',\n",
       " 'good',\n",
       " 'gawdthe',\n",
       " 'english',\n",
       " 'dubbing',\n",
       " 'crazy',\n",
       " 'funny',\n",
       " 'moments',\n",
       " 'depth',\n",
       " 'show',\n",
       " 'bares',\n",
       " 'truth',\n",
       " 'humanity',\n",
       " 'physiological',\n",
       " 'thriller',\n",
       " 'anime',\n",
       " 'style',\n",
       " 'starts',\n",
       " 'slow',\n",
       " 'redeems',\n",
       " 'starts',\n",
       " 'strong',\n",
       " 'gets',\n",
       " 'pretty',\n",
       " 'weak',\n",
       " 'end',\n",
       " 'mid',\n",
       " 'lost',\n",
       " 'acting',\n",
       " 'fabulous',\n",
       " 'hard',\n",
       " 'find',\n",
       " 'level',\n",
       " 'nowadays',\n",
       " 'op',\n",
       " 'show',\n",
       " 'except',\n",
       " 'vips',\n",
       " 'entertainment',\n",
       " 'entertainment',\n",
       " 'entertainment',\n",
       " 'series',\n",
       " 'real',\n",
       " 'entertainment',\n",
       " 'luckiest',\n",
       " 'unlucky',\n",
       " 'finished',\n",
       " 'squid',\n",
       " 'near',\n",
       " 'masterpiece',\n",
       " 'hyped',\n",
       " 'okay',\n",
       " 'kids',\n",
       " 'games',\n",
       " 'survival',\n",
       " 'clever',\n",
       " 'disturbing',\n",
       " 'provocative',\n",
       " 'excellent',\n",
       " 'characters',\n",
       " 'bad',\n",
       " 'gum',\n",
       " 'red',\n",
       " 'light',\n",
       " 'green',\n",
       " 'light',\n",
       " 'yikes',\n",
       " 'okay',\n",
       " 'upset',\n",
       " 'great',\n",
       " 'show',\n",
       " 'almost',\n",
       " 'perfectalmost',\n",
       " 'human',\n",
       " '8',\n",
       " '6',\n",
       " '7',\n",
       " 'money',\n",
       " 'human',\n",
       " 'incentive',\n",
       " 'meh',\n",
       " 'pretty',\n",
       " 'must',\n",
       " 'absolutely',\n",
       " 'riveting',\n",
       " 'show',\n",
       " 'difficult',\n",
       " 'another',\n",
       " 'stupid',\n",
       " 'metaphor',\n",
       " 'capitalism',\n",
       " 'brilliance',\n",
       " 'propaganda',\n",
       " 'right',\n",
       " 'foreign',\n",
       " 'shows',\n",
       " 'another',\n",
       " 'blinder',\n",
       " 'korea',\n",
       " 'collective',\n",
       " 'hallucination',\n",
       " 'brilliant',\n",
       " 'enjoyable',\n",
       " 'amazing',\n",
       " 'show',\n",
       " 'better',\n",
       " 'money',\n",
       " 'heist',\n",
       " 'good',\n",
       " 'incredible',\n",
       " 'dubbed',\n",
       " 'version',\n",
       " 'review',\n",
       " 'first',\n",
       " 'totally',\n",
       " 'pointless',\n",
       " 'first',\n",
       " 'episodes',\n",
       " '10',\n",
       " 'original',\n",
       " 'language',\n",
       " 'subtitles',\n",
       " 'changed',\n",
       " 'rating',\n",
       " 'goodbadgoodbadgoodbadgoodbadgoodbad',\n",
       " 'completely',\n",
       " 'overrated',\n",
       " 'love',\n",
       " 'korean',\n",
       " 'thriller',\n",
       " 'drama',\n",
       " 'exhausting',\n",
       " 'entertaining',\n",
       " 'lame',\n",
       " '79',\n",
       " 'addicting',\n",
       " 'problems',\n",
       " 'decent',\n",
       " 'korean',\n",
       " 'show',\n",
       " 'seriously',\n",
       " 'must',\n",
       " 'good',\n",
       " 'show',\n",
       " 'wonderful',\n",
       " 'korean',\n",
       " 'series',\n",
       " 'great',\n",
       " 'show',\n",
       " 'fantastic',\n",
       " 'story',\n",
       " 'brilliant',\n",
       " 'direction',\n",
       " 'tiny',\n",
       " 'problem',\n",
       " 'huh',\n",
       " 'best',\n",
       " 'acting',\n",
       " 'different',\n",
       " 'change',\n",
       " 'dark',\n",
       " 'disturbing',\n",
       " 'interesting',\n",
       " 'compulsive',\n",
       " 'worth',\n",
       " 'w10w',\n",
       " 'w10w',\n",
       " 'decent',\n",
       " 'first',\n",
       " 'half',\n",
       " 'masterful',\n",
       " 'second',\n",
       " 'half',\n",
       " 'last',\n",
       " '1010',\n",
       " 'great',\n",
       " 'start',\n",
       " 'bad',\n",
       " 'finish',\n",
       " 'shockingly',\n",
       " 'good',\n",
       " 'thriller',\n",
       " 'ending',\n",
       " 'weak',\n",
       " 'shallow',\n",
       " 'plot',\n",
       " 'seemingly',\n",
       " 'mimicked',\n",
       " 'series',\n",
       " 'bloodycolorful',\n",
       " 'writer',\n",
       " 'director',\n",
       " 'show',\n",
       " 'psychopath',\n",
       " 'probably',\n",
       " 'best',\n",
       " 'show',\n",
       " '2021',\n",
       " 'amazing',\n",
       " 'series',\n",
       " 'wow',\n",
       " 'top',\n",
       " 'notch',\n",
       " 'show',\n",
       " 'good',\n",
       " 'fun',\n",
       " 'different',\n",
       " 'hell',\n",
       " 'squeamish',\n",
       " 'dumb',\n",
       " 'variant',\n",
       " 'death',\n",
       " 'games',\n",
       " 'liked',\n",
       " 'tip',\n",
       " 'review',\n",
       " 'movie',\n",
       " 'premyy',\n",
       " 'honest',\n",
       " 'review',\n",
       " 'could',\n",
       " 'better',\n",
       " 'hunger',\n",
       " 'games',\n",
       " 'revisited',\n",
       " 'thought',\n",
       " 'provoking',\n",
       " 'amazing',\n",
       " 'show',\n",
       " 'fun',\n",
       " 'plot',\n",
       " 'makes',\n",
       " 'sense',\n",
       " 'best',\n",
       " 'korean',\n",
       " 'series',\n",
       " 'ever',\n",
       " 'outstanding',\n",
       " 'new',\n",
       " 'creative',\n",
       " 'series',\n",
       " 'btec',\n",
       " 'black',\n",
       " 'mirror',\n",
       " 'bloody',\n",
       " 'masterpiece',\n",
       " 'good',\n",
       " 'pasolini',\n",
       " 'better',\n",
       " 'subject',\n",
       " 'absolutely',\n",
       " 'atrocious',\n",
       " 'amazing',\n",
       " 'show',\n",
       " 'must',\n",
       " 'truly',\n",
       " 'engaging',\n",
       " 'horrific',\n",
       " 'look',\n",
       " 'reality',\n",
       " 'wellmade',\n",
       " 'slow',\n",
       " 'paced',\n",
       " 'addictive',\n",
       " 'worth',\n",
       " 'binge',\n",
       " 'great',\n",
       " 'binge',\n",
       " 'agree',\n",
       " 'vips',\n",
       " 'weird',\n",
       " 'unique',\n",
       " 'show',\n",
       " 'first',\n",
       " '6',\n",
       " 'eps',\n",
       " 'great',\n",
       " 'last',\n",
       " '3',\n",
       " 'lame',\n",
       " 'perfection',\n",
       " 'mix',\n",
       " 'things',\n",
       " 'already',\n",
       " 'less',\n",
       " 'story',\n",
       " 'masterfully',\n",
       " 'told',\n",
       " 'redemption',\n",
       " 'human',\n",
       " 'frailty',\n",
       " 'future',\n",
       " 'cinematography',\n",
       " 'dark',\n",
       " 'intense',\n",
       " 'battle',\n",
       " 'royale',\n",
       " 'cliche',\n",
       " 'redeeming',\n",
       " 'points',\n",
       " 'updated',\n",
       " 'take',\n",
       " 'old',\n",
       " 'idea',\n",
       " 'good',\n",
       " 'show',\n",
       " 'genius',\n",
       " 'end',\n",
       " 'worthy',\n",
       " 'rest',\n",
       " 'squid',\n",
       " 'review',\n",
       " 'ultimate',\n",
       " 'changer',\n",
       " 'korean',\n",
       " 'show',\n",
       " 'must',\n",
       " 'dissapointing',\n",
       " 'ending',\n",
       " 'artistic',\n",
       " 'storytelling',\n",
       " 'visual',\n",
       " 'masterpiece',\n",
       " 'good',\n",
       " 'show',\n",
       " 'ending',\n",
       " 'sucked',\n",
       " 'balls',\n",
       " 'pardon',\n",
       " 'french',\n",
       " ...]"
      ]
     },
     "execution_count": 18,
     "metadata": {},
     "output_type": "execute_result"
    }
   ],
   "source": [
    "lst = string.split()\n",
    "lst"
   ]
  },
  {
   "cell_type": "code",
   "execution_count": 19,
   "metadata": {},
   "outputs": [
    {
     "data": {
      "text/plain": [
       "0             never\n",
       "1           dullbut\n",
       "2               let\n",
       "3              kids\n",
       "4               new\n",
       "           ...     \n",
       "6113         series\n",
       "6114      overhyped\n",
       "6115           good\n",
       "6116    questioning\n",
       "6117       humanity\n",
       "Length: 6118, dtype: object"
      ]
     },
     "execution_count": 19,
     "metadata": {},
     "output_type": "execute_result"
    }
   ],
   "source": [
    "srs = pd.Series(lst)\n",
    "srs"
   ]
  },
  {
   "cell_type": "code",
   "execution_count": 20,
   "metadata": {},
   "outputs": [
    {
     "data": {
      "text/plain": [
       "show        230\n",
       "good        172\n",
       "great       158\n",
       "series      142\n",
       "best         86\n",
       "           ... \n",
       "twilight      1\n",
       "familiar      1\n",
       "executed      1\n",
       "worse         1\n",
       "nobody        1\n",
       "Length: 1850, dtype: int64"
      ]
     },
     "execution_count": 20,
     "metadata": {},
     "output_type": "execute_result"
    }
   ],
   "source": [
    "srs.value_counts()"
   ]
  },
  {
   "cell_type": "code",
   "execution_count": 21,
   "metadata": {},
   "outputs": [
    {
     "data": {
      "text/plain": [
       "show         230\n",
       "good         172\n",
       "great        158\n",
       "series       142\n",
       "best          86\n",
       "overrated     81\n",
       "amazing       68\n",
       "korean        58\n",
       "hype          55\n",
       "bad           50\n",
       "dtype: int64"
      ]
     },
     "execution_count": 21,
     "metadata": {},
     "output_type": "execute_result"
    }
   ],
   "source": [
    "freq_common = srs.value_counts()[:10]\n",
    "freq_common"
   ]
  },
  {
   "cell_type": "code",
   "execution_count": 22,
   "metadata": {},
   "outputs": [
    {
     "data": {
      "text/plain": [
       "alert         1\n",
       "couple        1\n",
       "filmmaking    1\n",
       "120           1\n",
       "est           1\n",
       "twilight      1\n",
       "familiar      1\n",
       "executed      1\n",
       "worse         1\n",
       "nobody        1\n",
       "dtype: int64"
      ]
     },
     "execution_count": 22,
     "metadata": {},
     "output_type": "execute_result"
    }
   ],
   "source": [
    "freq_common = srs.value_counts()[-10:]\n",
    "freq_common"
   ]
  },
  {
   "cell_type": "code",
   "execution_count": 23,
   "metadata": {},
   "outputs": [
    {
     "data": {
      "text/plain": [
       "0                never dullbut let kids\n",
       "1                        new tv classic\n",
       "2                                      \n",
       "3       hell theres rules hell deoksu 7\n",
       "4             trust never anything like\n",
       "                     ...               \n",
       "2250             second boredom tv show\n",
       "2251                        recommended\n",
       "2252        absolutely beautiful series\n",
       "2253                     overhyped good\n",
       "2254               questioning humanity\n",
       "Name: reviews_title, Length: 2255, dtype: object"
      ]
     },
     "execution_count": 23,
     "metadata": {},
     "output_type": "execute_result"
    }
   ],
   "source": [
    "# removing non-English characters\n",
    "\n",
    "\n",
    "def remove_non_ascii(text):\n",
    "    return ''.join(i for i in text if ord(i) < 128)\n",
    "\n",
    "df_reviews_title['reviews_title'] = df_reviews_title['reviews_title'].apply(remove_non_ascii)\n",
    "\n",
    "df_reviews_title['reviews_title']"
   ]
  },
  {
   "cell_type": "code",
   "execution_count": 24,
   "metadata": {},
   "outputs": [
    {
     "data": {
      "text/plain": [
       "0               never dullbut let kid\n",
       "1                      new tv classic\n",
       "2                                    \n",
       "3       hell there rule hell deoksu 7\n",
       "4              trust never anyth like\n",
       "                    ...              \n",
       "2250           second boredom tv show\n",
       "2251                        recommend\n",
       "2252              absolut beauti seri\n",
       "2253                     overhyp good\n",
       "2254                   question human\n",
       "Name: reviews_title, Length: 2255, dtype: object"
      ]
     },
     "execution_count": 24,
     "metadata": {},
     "output_type": "execute_result"
    }
   ],
   "source": [
    "# Stemming\n",
    "from nltk.stem import PorterStemmer\n",
    "\n",
    "st = PorterStemmer()\n",
    "df_reviews_title['reviews_title'].apply(\n",
    "    lambda ttl: \" \".join([st.stem(wrd) for wrd in ttl.split()]))"
   ]
  },
  {
   "cell_type": "code",
   "execution_count": 25,
   "metadata": {},
   "outputs": [
    {
     "data": {
      "text/plain": [
       "0               never dullbut let kid\n",
       "1                      new tv classic\n",
       "2                                    \n",
       "3       hell there rule hell deoksu 7\n",
       "4           trust never anything like\n",
       "                    ...              \n",
       "2250           second boredom tv show\n",
       "2251                      recommended\n",
       "2252      absolutely beautiful series\n",
       "2253                   overhyped good\n",
       "2254             questioning humanity\n",
       "Name: reviews_title, Length: 2255, dtype: object"
      ]
     },
     "execution_count": 25,
     "metadata": {},
     "output_type": "execute_result"
    }
   ],
   "source": [
    "# Lemmatization\n",
    "from textblob import Word\n",
    "\n",
    "df_reviews_title['reviews_title'] =df_reviews_title['reviews_title'].apply(\n",
    "    lambda ttl: \" \".join([Word(wrd).lemmatize() for wrd in ttl.split()]))\n",
    "df_reviews_title['reviews_title']"
   ]
  },
  {
   "cell_type": "code",
   "execution_count": 26,
   "metadata": {},
   "outputs": [
    {
     "name": "stderr",
     "output_type": "stream",
     "text": [
      "<ipython-input-26-a7c7a18aa565>:3: FutureWarning: The default value of regex will change from True to False in a future version.\n",
      "  df_reviews_title['reviews_title'] =df_reviews_title['reviews_title'].str.replace('\\d+', '')\n"
     ]
    },
    {
     "data": {
      "text/plain": [
       "0              never dullbut let kid\n",
       "1                     new tv classic\n",
       "2                                   \n",
       "3       hell there rule hell deoksu \n",
       "4          trust never anything like\n",
       "                    ...             \n",
       "2250          second boredom tv show\n",
       "2251                     recommended\n",
       "2252     absolutely beautiful series\n",
       "2253                  overhyped good\n",
       "2254            questioning humanity\n",
       "Name: reviews_title, Length: 2255, dtype: object"
      ]
     },
     "execution_count": 26,
     "metadata": {},
     "output_type": "execute_result"
    }
   ],
   "source": [
    "import numpy as np\n",
    "\n",
    "df_reviews_title['reviews_title'] =df_reviews_title['reviews_title'].str.replace('\\d+', '')\n",
    "df_reviews_title['reviews_title'].replace(' ', np.nan, inplace=True)\n",
    "df_reviews_title['reviews_title']"
   ]
  },
  {
   "cell_type": "code",
   "execution_count": 27,
   "metadata": {},
   "outputs": [
    {
     "name": "stdout",
     "output_type": "stream",
     "text": [
      "Requirement already satisfied: matplotlib in /opt/anaconda3/lib/python3.8/site-packages (3.3.4)\n",
      "Requirement already satisfied: pillow>=6.2.0 in /opt/anaconda3/lib/python3.8/site-packages (from matplotlib) (8.4.0)\n",
      "Requirement already satisfied: python-dateutil>=2.1 in /opt/anaconda3/lib/python3.8/site-packages (from matplotlib) (2.8.1)\n",
      "Requirement already satisfied: kiwisolver>=1.0.1 in /opt/anaconda3/lib/python3.8/site-packages (from matplotlib) (1.3.1)\n",
      "Requirement already satisfied: numpy>=1.15 in /opt/anaconda3/lib/python3.8/site-packages (from matplotlib) (1.20.1)\n",
      "Requirement already satisfied: pyparsing!=2.0.4,!=2.1.2,!=2.1.6,>=2.0.3 in /opt/anaconda3/lib/python3.8/site-packages (from matplotlib) (2.4.7)\n",
      "Requirement already satisfied: cycler>=0.10 in /opt/anaconda3/lib/python3.8/site-packages (from matplotlib) (0.10.0)\n",
      "Requirement already satisfied: six in /opt/anaconda3/lib/python3.8/site-packages (from cycler>=0.10->matplotlib) (1.15.0)\n",
      "Requirement already satisfied: wordcloud in /opt/anaconda3/lib/python3.8/site-packages (1.8.1)\n",
      "Requirement already satisfied: matplotlib in /opt/anaconda3/lib/python3.8/site-packages (from wordcloud) (3.3.4)\n",
      "Requirement already satisfied: numpy>=1.6.1 in /opt/anaconda3/lib/python3.8/site-packages (from wordcloud) (1.20.1)\n",
      "Requirement already satisfied: pillow in /opt/anaconda3/lib/python3.8/site-packages (from wordcloud) (8.4.0)\n",
      "Requirement already satisfied: cycler>=0.10 in /opt/anaconda3/lib/python3.8/site-packages (from matplotlib->wordcloud) (0.10.0)\n",
      "Requirement already satisfied: pyparsing!=2.0.4,!=2.1.2,!=2.1.6,>=2.0.3 in /opt/anaconda3/lib/python3.8/site-packages (from matplotlib->wordcloud) (2.4.7)\n",
      "Requirement already satisfied: python-dateutil>=2.1 in /opt/anaconda3/lib/python3.8/site-packages (from matplotlib->wordcloud) (2.8.1)\n",
      "Requirement already satisfied: kiwisolver>=1.0.1 in /opt/anaconda3/lib/python3.8/site-packages (from matplotlib->wordcloud) (1.3.1)\n",
      "Requirement already satisfied: six in /opt/anaconda3/lib/python3.8/site-packages (from cycler>=0.10->matplotlib->wordcloud) (1.15.0)\n"
     ]
    }
   ],
   "source": [
    "!pip install matplotlib\n",
    "!pip install wordcloud"
   ]
  },
  {
   "cell_type": "code",
   "execution_count": 28,
   "metadata": {},
   "outputs": [
    {
     "data": {
      "text/plain": [
       "WordList(['good', 'concept', 'solid', 'excecution'])"
      ]
     },
     "execution_count": 28,
     "metadata": {},
     "output_type": "execute_result"
    }
   ],
   "source": [
    "from textblob import TextBlob\n",
    "\n",
    "TextBlob(df_reviews_title['reviews_title'] [10]).words"
   ]
  },
  {
   "cell_type": "code",
   "execution_count": 29,
   "metadata": {},
   "outputs": [
    {
     "data": {
      "text/plain": [
       "[WordList(['hell', 'there']),\n",
       " WordList(['there', 'rule']),\n",
       " WordList(['rule', 'hell']),\n",
       " WordList(['hell', 'deoksu'])]"
      ]
     },
     "execution_count": 29,
     "metadata": {},
     "output_type": "execute_result"
    }
   ],
   "source": [
    "TextBlob(df_reviews_title['reviews_title'] [3]).ngrams(2)"
   ]
  },
  {
   "cell_type": "code",
   "execution_count": 30,
   "metadata": {},
   "outputs": [
    {
     "data": {
      "text/plain": [
       "[WordList(['good', 'please', 'korean']),\n",
       " WordList(['please', 'korean', 'movie']),\n",
       " WordList(['korean', 'movie', 'oldboy'])]"
      ]
     },
     "execution_count": 30,
     "metadata": {},
     "output_type": "execute_result"
    }
   ],
   "source": [
    "TextBlob(df_reviews_title['reviews_title'] [7]).ngrams(3)"
   ]
  },
  {
   "cell_type": "code",
   "execution_count": 31,
   "metadata": {},
   "outputs": [],
   "source": [
    "# TF\n",
    "tf1 = df_reviews_title['reviews_title'].apply(lambda x: pd.value_counts(x.split(\" \"))).sum(\n",
    "    axis=0).reset_index()\n",
    "\n",
    "tf1.columns = ['words', 'tf']\n",
    "imdb_标题_head_100=tf1.sort_values(['tf'], ascending=False).head(100)\n",
    "imdb_标题_head_100.to_csv('imdb_标题_top_100.csv')"
   ]
  },
  {
   "cell_type": "code",
   "execution_count": 32,
   "metadata": {},
   "outputs": [],
   "source": [
    "fp=imdb_标题_head_100\n",
    "word = list(fp.words)#词\n",
    "value = fp.tf#词的频率\n",
    "for i in range(len(word)):\n",
    "    word[i] = word[i]\n",
    "dic = dict(zip(word, value))#词频以字典形式存储"
   ]
  },
  {
   "cell_type": "code",
   "execution_count": 33,
   "metadata": {},
   "outputs": [
    {
     "data": {
      "text/plain": [
       "{'show': 249.0,\n",
       " 'good': 172.0,\n",
       " 'great': 158.0,\n",
       " 'series': 142.0,\n",
       " '': 137.0,\n",
       " 'best': 86.0,\n",
       " 'overrated': 81.0,\n",
       " 'amazing': 68.0,\n",
       " 'korean': 59.0,\n",
       " 'hype': 56.0,\n",
       " 'vip': 55.0,\n",
       " 'bad': 50.0,\n",
       " 'time': 46.0,\n",
       " 'ending': 45.0,\n",
       " 'worth': 45.0,\n",
       " 'predictable': 43.0,\n",
       " 'squid': 39.0,\n",
       " 'acting': 38.0,\n",
       " 'game': 37.0,\n",
       " 'story': 37.0,\n",
       " 'masterpiece': 35.0,\n",
       " 'entertaining': 32.0,\n",
       " 'overhyped': 32.0,\n",
       " 'wow': 31.0,\n",
       " 'plot': 31.0,\n",
       " 'boring': 31.0,\n",
       " 'ever': 29.0,\n",
       " 'drama': 29.0,\n",
       " 'start': 28.0,\n",
       " 'excellent': 27.0,\n",
       " 'idea': 26.0,\n",
       " 'perfect': 26.0,\n",
       " 'brilliant': 25.0,\n",
       " 'interesting': 25.0,\n",
       " 'movie': 24.0,\n",
       " 'tv': 24.0,\n",
       " 'end': 24.0,\n",
       " 'loved': 23.0,\n",
       " 'must': 23.0,\n",
       " 'original': 23.0,\n",
       " 'like': 21.0,\n",
       " 'hunger': 21.0,\n",
       " 'new': 21.0,\n",
       " 'fantastic': 20.0,\n",
       " 'character': 20.0,\n",
       " 'decent': 20.0,\n",
       " 'better': 19.0,\n",
       " 'awesome': 19.0,\n",
       " 'first': 19.0,\n",
       " 'could': 19.0,\n",
       " 'last': 19.0,\n",
       " 'review': 19.0,\n",
       " 'korea': 19.0,\n",
       " 'binge': 18.0,\n",
       " 'season': 18.0,\n",
       " 'pretty': 18.0,\n",
       " 'watched': 18.0,\n",
       " 'love': 17.0,\n",
       " 'watching': 17.0,\n",
       " 'meet': 17.0,\n",
       " 'disturbing': 17.0,\n",
       " 'episode': 17.0,\n",
       " 'slow': 16.0,\n",
       " 'concept': 16.0,\n",
       " 'life': 15.0,\n",
       " 'stupid': 15.0,\n",
       " 'waste': 15.0,\n",
       " 'fun': 15.0,\n",
       " 'thriller': 15.0,\n",
       " 'people': 15.0,\n",
       " 'horrible': 14.0,\n",
       " 'nice': 14.0,\n",
       " 'worst': 14.0,\n",
       " 'poor': 14.0,\n",
       " 'meh': 13.0,\n",
       " 'ok': 13.0,\n",
       " 'definitely': 13.0,\n",
       " 'disappointing': 13.0,\n",
       " 'make': 13.0,\n",
       " 'another': 13.0,\n",
       " 'worthy': 12.0,\n",
       " 'alice': 12.0,\n",
       " 'borderland': 12.0,\n",
       " 'never': 12.0,\n",
       " 'battle': 12.0,\n",
       " 'trash': 12.0,\n",
       " 'hole': 12.0,\n",
       " 'terrible': 12.0,\n",
       " 'hyped': 12.0,\n",
       " 'okay': 11.0,\n",
       " 'exciting': 11.0,\n",
       " 'film': 11.0,\n",
       " 'violent': 11.0,\n",
       " 'royale': 11.0,\n",
       " 'unique': 11.0,\n",
       " 'human': 11.0,\n",
       " 'enjoyable': 10.0,\n",
       " 'incredible': 10.0,\n",
       " 'done': 10.0,\n",
       " 'real': 10.0}"
      ]
     },
     "execution_count": 33,
     "metadata": {},
     "output_type": "execute_result"
    }
   ],
   "source": [
    "dic"
   ]
  },
  {
   "cell_type": "code",
   "execution_count": 34,
   "metadata": {},
   "outputs": [
    {
     "name": "stdout",
     "output_type": "stream",
     "text": [
      "['aboard', 'absolute', 'absolutely', 'absorbing', 'abstract', 'abyss', 'account', 'accurate', 'achievement', 'across', 'act', 'acted', 'acting', 'action', 'actionpacked', 'actor', 'add', 'addicted', 'addicting', 'addictive', 'adhshsjdbbsjsbsbdb', 'adrenaline', 'adult', 'adventure', 'adventurousish', 'advisory', 'aesome', 'af', 'aficionado', 'age', 'ageist', 'agree', 'aiming', 'aint', 'air', 'aja', 'aka', 'albeit', 'alert', 'algorithm', 'ali', 'alice', 'alive', 'allaround', 'almost', 'along', 'alot', 'already', 'alright', 'also', 'amazing', 'amazingliterally', 'amazingly', 'amd', 'among', 'amount', 'amused', 'amusing', 'analysis', 'angry', 'animal', 'anime', 'animesquid', 'annoying', 'another', 'answer', 'anticlimactic', 'anxious', 'anymore', 'anything', 'anyway', 'apart', 'apathy', 'appeal', 'appealing', 'area', 'arguably', 'armed', 'armour', 'around', 'arrived', 'art', 'artistic', 'artistically', 'asap', 'asf', 'asian', 'aspect', 'assignment', 'asun', 'atill', 'atmospheric', 'atrocious', 'attachment', 'attempt', 'attention', 'attracting', 'atypical', 'audience', 'audio', 'audition', 'avarice', 'average', 'avoid', 'award', 'away', 'awefull', 'awesome', 'awesomeloved', 'awestruck', 'awf', 'awful', 'awwww', 'baby', 'bachman', 'back', 'backdrop', 'background', 'backround', 'bad', 'bafflingly', 'ball', 'banal', 'bandwagon', 'bang', 'banned', 'bar', 'barely', 'bares', 'based', 'basic', 'basically', 'battery', 'battle', 'bc', 'bean', 'beautiful', 'beautifully', 'became', 'becomes', 'bedroom', 'beforebetter', 'begin', 'beginning', 'behavior', 'being', 'beliavable', 'believe', 'besiide', 'best', 'bestest', 'bet', 'betrayal', 'better', 'beyond', 'biasa', 'big', 'bigger', 'billion', 'binge', 'bingeable', 'binged', 'bingewatching', 'bingeworthy', 'birthday', 'bit', 'bizarre', 'bizzare', 'blabla', 'black', 'blackpink', 'blahhhh', 'blast', 'blinder', 'bliss', 'blockbuster', 'blood', 'bloody', 'bloodycolorful', 'blowing', 'blown', 'blue', 'bogus', 'bold', 'bomb', 'bone', 'bonita', 'book', 'borderland', 'boredom', 'boring', 'bothering', 'boy', 'brain', 'braindead', 'brand', 'bravo', 'break', 'breaking', 'breath', 'breathtaking', 'brilliance', 'brilliant', 'bring', 'brother', 'brown', 'bruh', 'brutal', 'brutally', 'btec', 'budget', 'buggy', 'build', 'buildup', 'butspoilers', 'buzz', 'byeok', 'byunghun', 'calamari', 'came', 'cameo', 'cannot', 'cant', 'capital', 'capitalism', 'captivating', 'capture', 'captured', 'care', 'cast', 'casting', 'castle', 'cat', 'cause', 'celebrating', 'cell', 'central', 'certainly', 'chance', 'change', 'changed', 'changer', 'character', 'cheap', 'cheesy', 'child', 'childhood', 'childish', 'childplay', 'childrens', 'chilling', 'choice', 'choose', 'choreography', 'chose', 'chris', 'christophobic', 'cinema', 'cinematic', 'cinematography', 'class', 'classic', 'clever', 'clich', 'cliche', 'climax', 'close', 'clothes', 'coaster', 'coherent', 'collective', 'come', 'comedy', 'coming', 'commentary', 'company', 'compassion', 'compelling', 'competition', 'complaining', 'complete', 'completely', 'complex', 'complexity', 'composition', 'compulsive', 'concept', 'conceptually', 'conceptwho', 'concern', 'conclude', 'conflicted', 'confused', 'confusing', 'consequence', 'consider', 'consistent', 'consistently', 'consumption', 'contemporary', 'content', 'continues', 'conversation', 'converted', 'cool', 'cop', 'copy', 'copycat', 'core', 'correct', 'corrupted', 'costume', 'could', 'couldve', 'couple', 'court', 'coverage', 'crafted', 'craftmanship', 'crap', 'crawl', 'crazy', 'created', 'creative', 'creativity', 'credit', 'creepy', 'cried', 'cringe', 'cringy', 'critic', 'critical', 'critique', 'cruel', 'cry', 'cube', 'cult', 'curiosity', 'curious', 'current', 'da', 'daily', 'damage', 'damn', 'damp', 'dang', 'danube', 'dark', 'darker', 'darkness', 'day', 'dead', 'deadly', 'deadlygame', 'death', 'deathgame', 'debt', 'debtor', 'debut', 'decade', 'decent', 'deception', 'decision', 'deed', 'deeir', 'deep', 'def', 'defence', 'definitely', 'definition', 'deft', 'degrading', 'deliver', 'denounce', 'deoksu', 'departs', 'depicted', 'depressed', 'depressing', 'depth', 'derivative', 'describe', 'described', 'description', 'deserve', 'deserved', 'deserves', 'deserving', 'design', 'desire', 'desk', 'despair', 'desperate', 'desperation', 'despite', 'destroyed', 'developed', 'dialogue', 'diamond', 'die', 'different', 'difficult', 'dilemma', 'directed', 'direction', 'director', 'disappoint', 'disappointed', 'disappointing', 'disappointingly', 'disappointment', 'disease', 'disgusting', 'dish', 'disney', 'disoriented', 'dissapointed', 'dissapointing', 'dissapointment', 'dissimilar', 'disturbed', 'disturbing', 'dive', 'divide', 'documentary', 'doesnt', 'done', 'donghyuk', 'dontlt', 'doppelganger', 'double', 'doubt', 'doubted', 'downhill', 'drab', 'draining', 'dram', 'drama', 'dramatic', 'drank', 'dream', 'dressing', 'drive', 'drivel', 'dropping', 'dry', 'dub', 'dubbed', 'dubbing', 'dull', 'dullbut', 'dumb', 'dummy', 'dusty', 'dy', 'dynamic', 'dystopia', 'dystopian', 'early', 'easily', 'east', 'easy', 'eccentric', 'economic', 'edge', 'edit', 'educates', 'ee', 'eh', 'ehh', 'either', 'elaborate', 'else', 'emotion', 'emotional', 'emotionally', 'emperor', 'emphasis', 'empty', 'end', 'ended', 'ending', 'engaging', 'english', 'engrossing', 'enjoy', 'enjoyable', 'enjoyed', 'enough', 'entertain', 'entertained', 'entertaining', 'entertainment', 'entertains', 'enthralling', 'enthusiasm', 'entire', 'entirely', 'ep', 'epic', 'epidode', 'episode', 'eps', 'error', 'esque', 'est', 'este', 'evans', 'ever', 'everyone', 'everyones', 'evil', 'exaggerated', 'excecution', 'excelent', 'excellent', 'except', 'exceptional', 'excited', 'excitement', 'exciting', 'executed', 'executedtoo', 'execution', 'exhausting', 'exhilarating', 'exists', 'exiting', 'exoectable', 'expectation', 'expected', 'expecting', 'experience', 'experiencing', 'expertly', 'explained', 'exploitation', 'exploration', 'expressive', 'extensive', 'extraordinary', 'extremely', 'extremly', 'eye', 'fabulous', 'fact', 'factor', 'fade', 'failed', 'fails', 'faint', 'fairtomiddling', 'fall', 'falling', 'familiar', 'fan', 'fantastic', 'fantastically', 'fantasy', 'fantstico', 'fare', 'farfetched', 'fast', 'faster', 'fastpaced', 'father', 'fault', 'fav', 'favourite', 'feature', 'feeling', 'fell', 'felt', 'fest', 'film', 'filmmaker', 'filmmaking', 'filth', 'final', 'finale', 'finally', 'financial', 'find', 'fine', 'finest', 'fing', 'finish', 'finished', 'first', 'fizzle', 'flare', 'flaw', 'flawed', 'fly', 'follow', 'foolish', 'footnote', 'foreign', 'foreshadowing', 'forget', 'forgot', 'form', 'formula', 'forum', 'forwarded', 'found', 'fourth', 'frailty', 'free', 'french', 'fresh', 'friend', 'friendship', 'frontman', 'frothing', 'frustrating', 'fu', 'full', 'fully', 'fun', 'fundamental', 'funny', 'fuss', 'future', 'galore', 'gambler', 'game', 'gamejust', 'gamemy', 'garbage', 'garbish', 'gave', 'gawdthe', 'gem', 'general', 'generic', 'genius', 'genocide', 'genre', 'genrous', 'george', 'get', 'getting', 'gg', 'gganbu', 'gift', 'gihun', 'give', 'given', 'giving', 'glass', 'gloriously', 'glossy', 'go', 'god', 'going', 'gold', 'gone', 'good', 'goodbadgoodbadgoodbadgoodbadgoodbad', 'goodfor', 'goodyesfantasticmaybe', 'gore', 'gorefest', 'gory', 'gotta', 'grabbing', 'graphic', 'grazing', 'great', 'greatest', 'greatif', 'greed', 'greediness', 'green', 'gripping', 'gross', 'grounded', 'group', 'growing', 'grown', 'gruesome', 'guess', 'guessing', 'guest', 'guilty', 'gum', 'haesoo', 'hail', 'half', 'halfway', 'hallucination', 'hand', 'handed', 'hang', 'happily', 'happy', 'hard', 'hardcore', 'hardhitting', 'harsh', 'hastily', 'hate', 'hated', 'hating', 'havent', 'head', 'heart', 'heartbreaking', 'hearted', 'hearttouchingemotional', 'heck', 'heist', 'hell', 'help', 'hesitate', 'hey', 'hiccup', 'hidden', 'high', 'highly', 'hilarious', 'hint', 'hired', 'history', 'hit', 'hole', 'hollow', 'hollywood', 'honest', 'honestly', 'hook', 'hooked', 'hope', 'horrerscifi', 'horrible', 'horribly', 'horrific', 'horrifying', 'horror', 'horse', 'host', 'hostel', 'hour', 'howd', 'however', 'hoyeon', 'hr', 'huh', 'hum', 'human', 'humanist', 'humanity', 'humankind', 'hunger', 'hungergames', 'hurry', 'hurt', 'hustle', 'hwang', 'hype', 'hyped', 'hypocrisy', 'hypocrite', 'hypocritical', 'idea', 'ignorance', 'ignore', 'iliterate', 'ill', 'illegal', 'imdb', 'immature', 'immensely', 'immersive', 'immoral', 'implausible', 'impressed', 'impressive', 'inaccurate', 'incentive', 'incomplete', 'inconsistent', 'incredible', 'incredibly', 'indian', 'inducing', 'ingenious', 'innovation', 'innovative', 'inordinate', 'insane', 'insanely', 'insight', 'insightful', 'inspiration', 'inspired', 'inspiring', 'instant', 'instead', 'intacto', 'integrants', 'integrity', 'intelligent', 'intended', 'intense', 'interesting', 'internet', 'interpretation', 'interresting', 'interval', 'intresting', 'intricate', 'intriguing', 'invest', 'iraq', 'irrelevant', 'irritating', 'isnt', 'issue', 'jamila', 'japanese', 'jaw', 'job', 'join', 'joke', 'joy', 'joyride', 'judgment', 'jumped', 'jung', 'jungjae', 'kaiji', 'kaijis', 'kalash', 'kdrama', 'keep', 'key', 'kid', 'kill', 'killed', 'killing', 'kind', 'kinda', 'king', 'kingdom', 'knew', 'korea', 'korean', 'kubrick', 'kung', 'laaaaaaaaaaaaaaaaaaaaaaaaaame', 'lack', 'lacked', 'lacking', 'lackings', 'lackluster', 'lam', 'lame', 'landing', 'language', 'last', 'latter', 'laugh', 'layer', 'le', 'league', 'leave', 'lee', 'left', 'legendary', 'lengthy', 'lesbian', 'lesson', 'let', 'level', 'life', 'light', 'likable', 'like', 'liked', 'limelight', 'limp', 'line', 'lip', 'lipsync', 'list', 'listen', 'literally', 'literature', 'little', 'live', 'logic', 'logical', 'long', 'look', 'looked', 'loooong', 'loophole', 'loose', 'lord', 'lose', 'loses', 'lost', 'lot', 'lousy', 'love', 'loved', 'lovely', 'lover', 'loving', 'low', 'lower', 'luckiest', 'madness', 'magnificent', 'main', 'majesty', 'major', 'make', 'making', 'man', 'manly', 'marathon', 'marble', 'marketing', 'masked', 'mass', 'massively', 'master', 'masterclass', 'masterful', 'masterfully', 'masterpiece', 'material', 'matter', 'maybe', 'mc', 'mean', 'meaning', 'meaningful', 'mediocre', 'medium', 'meet', 'meh', 'mehh', 'mehinteresting', 'melted', 'meme', 'memorable', 'mesmerizing', 'message', 'messed', 'metaphor', 'metric', 'mid', 'middle', 'might', 'million', 'mimicked', 'min', 'mind', 'mindblowing', 'mindless', 'mine', 'mini', 'minor', 'minute', 'mirror', 'miscalculation', 'misleading', 'misogynistic', 'miss', 'missing', 'mix', 'mixed', 'mixtape', 'mixture', 'moderate', 'modern', 'moment', 'momentum', 'momwife', 'money', 'moon', 'moral', 'morbid', 'morbidity', 'mostly', 'mouth', 'movie', 'mr', 'msg', 'muck', 'multiple', 'multiply', 'mundane', 'munition', 'murder', 'murderer', 'murdering', 'music', 'must', 'nailbiting', 'nailed', 'name', 'nature', 'naysayer', 'nd', 'near', 'nearly', 'necessary', 'need', 'needed', 'negative', 'nervous', 'netflixs', 'never', 'new', 'next', 'nextflix', 'nice', 'night', 'nightmare', 'nine', 'nive', 'no', 'nobody', 'noise', 'nollywood', 'none', 'nonsense', 'nostalgia', 'notch', 'nother', 'nowadays', 'npc', 'nutshell', 'nwo', 'obsessed', 'obsession', 'obvious', 'occasionally', 'oddly', 'offence', 'offer', 'officer', 'oh', 'ok', 'okay', 'okish', 'old', 'oldboy', 'older', 'omg', 'onboard', 'one', 'onetoo', 'onion', 'op', 'open', 'opera', 'opinion', 'option', 'original', 'originality', 'others', 'otherwise', 'ott', 'outclass', 'outdated', 'outdone', 'outrageous', 'outside', 'outsider', 'outstanding', 'over', 'overacted', 'overacting', 'overall', 'overatayed', 'overatted', 'overblown', 'overdub', 'overhiped', 'overhype', 'overhyped', 'overrate', 'overrated', 'overratedjust', 'overrating', 'overreaching', 'overstaythe', 'overwhelming', 'owesome', 'pace', 'paced', 'packed', 'page', 'painfully', 'paired', 'parasite', 'pardon', 'park', 'part', 'pasolini', 'path', 'pathological', 'payoff', 'people', 'perfect', 'perfectalmost', 'perfection', 'perfectly', 'performance', 'perhaps', 'period', 'persona', 'phenomenal', 'phone', 'physiological', 'picture', 'piece', 'pitfall', 'place', 'plagiasm', 'platform', 'plau', 'play', 'played', 'player', 'playground', 'pleasant', 'please', 'pleasing', 'plenty', 'plot', 'plotdriven', 'plotholes', 'plus', 'point', 'pointless', 'pointlessly', 'police', 'politics', 'poor', 'poorly', 'pop', 'popular', 'popularity', 'porn', 'portrayal', 'positive', 'possible', 'postdictive', 'potent', 'potential', 'power', 'powerful', 'ppl', 'praise', 'praiseworthy', 'predicatable', 'predict', 'predictable', 'predictible', 'prefer', 'premise', 'premyy', 'prepare', 'pressure', 'pretending', 'pretentious', 'pretty', 'prison', 'prize', 'pro', 'probably', 'problem', 'produced', 'production', 'program', 'programme', 'programming', 'projection', 'promising', 'promosinf', 'proof', 'propaganda', 'protagonist', 'provocative', 'provoking', 'psycho', 'psychological', 'psychopath', 'public', 'pull', 'pure', 'purge', 'push', 'put', 'putting', 'quality', 'question', 'questioning', 'quickly', 'quirk', 'quite', 'quo', 'racer', 'racism', 'racist', 'radically', 'raining', 'rare', 'rate', 'rated', 'rather', 'rating', 'rave', 'raving', 'reaction', 'read', 'real', 'reality', 'reason', 'recent', 'recently', 'recommend', 'recommended', 'recreated', 'recycled', 'recycling', 'red', 'redeeming', 'redeems', 'redemption', 'rediculous', 'redundant', 'reflection', 'refreshing', 'regret', 'relatable', 'relationship', 'release', 'relevant', 'remake', 'remarkable', 'remember', 'reminds', 'reminiscent', 'repetitious', 'representation', 'respect', 'rest', 'reveal', 'reveals', 'reverse', 'review', 'revisited', 'revive', 'revolver', 'rhythm', 'rich', 'richard', 'ride', 'ridiculous', 'right', 'rip', 'ripoff', 'riveting', 'roller', 'rollercoaster', 'rolling', 'room', 'rot', 'rough', 'royale', 'royaleesque', 'rubbish', 'ruin', 'ruined', 'rule', 'run', 'running', 'rush', 'ruthless', 'sad', 'sadistic', 'sae', 'saebyeok', 'saint', 'salvation', 'satanic', 'satire', 'savagery', 'saw', 'say', 'saying', 'scarily', 'scenario', 'scene', 'schmid', 'score', 'scored', 'script', 'se', 'search', 'season', 'seasonsand', 'seat', 'second', 'secondary', 'secret', 'seeing', 'seemingly', 'seems', 'selfish', 'sensational', 'sense', 'senseless', 'sequela', 'series', 'serious', 'seriously', 'serries', 'set', 'severe', 'shallow', 'shark', 'shatters', 'shed', 'shiny', 'shock', 'shocked', 'shocking', 'shockingly', 'shoot', 'short', 'shot', 'show', 'showbut', 'showcase', 'showed', 'shown', 'shownot', 'shut', 'shy', 'sick', 'sign', 'silly', 'similar', 'simple', 'simplistic', 'simply', 'since', 'singer', 'single', 'sink', 'six', 'sk', 'skeptical', 'skip', 'skyrim', 'slept', 'slightly', 'sloppy', 'slow', 'slowly', 'small', 'smart', 'smell', 'snoozefest', 'snowpiercer', 'soap', 'social', 'society', 'societycritical', 'solid', 'someone', 'sometimes', 'somewhat', 'soo', 'sooo', 'sooooo', 'sorry', 'soul', 'south', 'spanish', 'special', 'spectacular', 'speechless', 'speed', 'spin', 'spine', 'spoil', 'spoiled', 'spoiler', 'sprint', 'squander', 'squeamish', 'squib', 'squid', 'squirm', 'squite', 'st', 'standard', 'standardgreat', 'star', 'start', 'startbad', 'started', 'starting', 'stay', 'steal', 'stellar', 'step', 'stephen', 'stereotype', 'stereotyped', 'steroid', 'stick', 'sticking', 'stinker', 'stock', 'stomach', 'stop', 'story', 'storyline', 'storytelling', 'straight', 'strange', 'strength', 'striking', 'stroke', 'strong', 'strongest', 'strongly', 'struggle', 'student', 'stuff', 'stunning', 'stupid', 'stupidest', 'stupidly', 'style', 'stylish', 'subject', 'substance', 'subtitle', 'success', 'suck', 'sucked', 'suggesting', 'suggestion', 'suitable', 'sum', 'sunk', 'super', 'superb', 'sure', 'surpasses', 'surprise', 'surprised', 'surprising', 'surprisingly', 'survival', 'survivor', 'suspence', 'suspense', 'suspenseful', 'switch', 'symbol', 'symbolism', 'sync', 'syndrome', 'system', 'takashis', 'take', 'takeshis', 'tale', 'talk', 'tarantino', 'taskmaster', 'taste', 'tasteless', 'te', 'team', 'tear', 'tedious', 'television', 'tense', 'terrible', 'terribly', 'terrific', 'th', 'thank', 'thats', 'there', 'thia', 'thing', 'thinkand', 'third', 'tho', 'thoroughly', 'though', 'thought', 'thoughtful', 'thoughtprovoking', 'thrill', 'thriller', 'thrilling', 'thrlling', 'throughout', 'thumb', 'tiktok', 'til', 'till', 'time', 'timeless', 'tiny', 'tip', 'tiring', 'titanic', 'tldr', 'today', 'tofail', 'together', 'told', 'tooooooooo', 'top', 'torture', 'total', 'totally', 'towards', 'toxic', 'tragic', 'train', 'translation', 'trap', 'trash', 'traumatic', 'tried', 'triller', 'triste', 'trivial', 'trope', 'true', 'truly', 'trust', 'truth', 'try', 'trytobeedgy', 'turn', 'turner', 'tv', 'twilight', 'twist', 'twisted', 'two', 'type', 'typical', 'ugly', 'ultimate', 'ultimately', 'ultra', 'unbelievable', 'uncle', 'uncomfortably', 'uncut', 'underestimate', 'underneath', 'understand', 'underwhelming', 'uneventful', 'unexpectable', 'unexpected', 'unforgiving', 'unique', 'universe', 'unlikable', 'unlike', 'unlucky', 'unpleasant', 'unpredictable', 'unpunished', 'unreal', 'unsatisfactory', 'unsatisfied', 'unsee', 'untill', 'unusual', 'unwatch', 'update', 'updated', 'ups', 'upset', 'upto', 'usa', 'useless', 'utterly', 'value', 'variant', 'verry', 'version', 'vibe', 'viewer', 'violence', 'violent', 'vip', 'vipos', 'viral', 'virgin', 'visual', 'visually', 'visuals', 'voice', 'voiceover', 'void', 'wait', 'wake', 'walk', 'walking', 'want', 'wanted', 'wanting', 'wao', 'warning', 'washington', 'wasnt', 'waste', 'wasted', 'wasteful', 'wasting', 'watchable', 'watchbut', 'watched', 'watching', 'watering', 'weak', 'weaken', 'wealth', 'wear', 'web', 'webseries', 'week', 'weekend', 'weird', 'welcome', 'wellacted', 'wellmade', 'went', 'werent', 'west', 'western', 'westernisingstop', 'westworld', 'weve', 'wf', 'whats', 'whatsoever', 'wheres', 'whole', 'wholl', 'wide', 'wild', 'willing', 'win', 'window', 'winner', 'wise', 'wish', 'wished', 'without', 'witness', 'woah', 'wonderful', 'wonderfully', 'wondering', 'wontherfull', 'woooh', 'woouuuughhhhh', 'woow', 'word', 'work', 'world', 'worried', 'worse', 'worst', 'worth', 'worthy', 'wouldnt', 'wouldve', 'wow', 'wowtotally', 'wowworthy', 'wrapped', 'writer', 'writing', 'written', 'wrong', 'wtf', 'ww', 'yay', 'year', 'yet', 'yikes', 'youll', 'young', 'youre', 'youve', 'zero', 'zone', 'zzz', 'zzzzzzz']\n"
     ]
    }
   ],
   "source": [
    "from sklearn.feature_extraction.text import TfidfVectorizer\n",
    "\n",
    "vectorizer = TfidfVectorizer()\n",
    "# Learn vocabulary and idf, return term-document matrix.\n",
    "doc_term_scores = vectorizer.fit_transform(df_reviews_title['reviews_title'])\n",
    "print(vectorizer.get_feature_names())"
   ]
  },
  {
   "cell_type": "code",
   "execution_count": 35,
   "metadata": {},
   "outputs": [
    {
     "name": "stdout",
     "output_type": "stream",
     "text": [
      "(2255, 1715)\n"
     ]
    }
   ],
   "source": [
    "print(doc_term_scores.shape)"
   ]
  },
  {
   "cell_type": "code",
   "execution_count": 36,
   "metadata": {},
   "outputs": [],
   "source": [
    "from wordcloud import WordCloud\n",
    "import PIL.Image as image\n",
    "import numpy as np\n",
    "import matplotlib.pyplot as plt\n",
    "import jieba as jieba"
   ]
  },
  {
   "cell_type": "code",
   "execution_count": 37,
   "metadata": {},
   "outputs": [],
   "source": [
    "from PIL import Image"
   ]
  },
  {
   "cell_type": "code",
   "execution_count": 38,
   "metadata": {},
   "outputs": [],
   "source": [
    "import imageio\n",
    "import matplotlib.pyplot as plt"
   ]
  },
  {
   "cell_type": "code",
   "execution_count": 39,
   "metadata": {},
   "outputs": [],
   "source": [
    "from os import path"
   ]
  },
  {
   "cell_type": "code",
   "execution_count": 40,
   "metadata": {},
   "outputs": [],
   "source": [
    "mg=np.array(Image.open(path.join(r'/Users/takasugi/Downloads/5555.jpeg')))"
   ]
  },
  {
   "cell_type": "code",
   "execution_count": 55,
   "metadata": {},
   "outputs": [
    {
     "data": {
      "image/png": "[encoded data removed]",
      "text/plain": [
       "<Figure size 432x288 with 1 Axes>"
      ]
     },
     "metadata": {},
     "output_type": "display_data"
    }
   ],
   "source": [
    "word_cloud = WordCloud(# 设置背景色\n",
    "     # 设置背景色\n",
    "        background_color='white',\n",
    "        # 设置背景宽\n",
    "        width=600,\n",
    "        # 设置背景高\n",
    "        height=1000,\n",
    "        # 最大字体\n",
    "        max_font_size=50,\n",
    "        # 最小字体\n",
    "        min_font_size=10,\n",
    "        scale=5,\n",
    "        mask=mg,\n",
    "        mode='RGBA')\n",
    "word_cloud.fit_words(dic)\n",
    "plt.imshow(word_cloud)\n",
    "plt.xticks([])#去掉横坐标\n",
    "plt.yticks([])#去掉纵坐标\n",
    "plt.show()"
   ]
  },
  {
   "cell_type": "code",
   "execution_count": 56,
   "metadata": {},
   "outputs": [
    {
     "data": {
      "text/plain": [
       "<wordcloud.wordcloud.WordCloud at 0x7fadc81c8d30>"
      ]
     },
     "execution_count": 56,
     "metadata": {},
     "output_type": "execute_result"
    }
   ],
   "source": [
    "word_cloud.to_file('imdb评论标题_top100_based_on_tf值.png')"
   ]
  },
  {
   "cell_type": "code",
   "execution_count": 57,
   "metadata": {},
   "outputs": [],
   "source": [
    "imdb_title_tail_100=tf1.sort_values(['tf'], ascending=False).tail(100)\n",
    "imdb_title_tail_100.to_csv('imdb_标题_tail_100.csv')"
   ]
  },
  {
   "cell_type": "code",
   "execution_count": null,
   "metadata": {},
   "outputs": [],
   "source": []
  },
  {
   "cell_type": "code",
   "execution_count": null,
   "metadata": {},
   "outputs": [],
   "source": []
  },
  {
   "cell_type": "code",
   "execution_count": null,
   "metadata": {},
   "outputs": [],
   "source": []
  },
  {
   "cell_type": "code",
   "execution_count": null,
   "metadata": {},
   "outputs": [],
   "source": []
  },
  {
   "cell_type": "code",
   "execution_count": null,
   "metadata": {},
   "outputs": [],
   "source": []
  },
  {
   "cell_type": "code",
   "execution_count": null,
   "metadata": {},
   "outputs": [],
   "source": []
  },
  {
   "cell_type": "code",
   "execution_count": null,
   "metadata": {},
   "outputs": [],
   "source": []
  },
  {
   "cell_type": "code",
   "execution_count": null,
   "metadata": {},
   "outputs": [],
   "source": []
  }
 ],
 "metadata": {
  "kernelspec": {
   "display_name": "Python 3",
   "language": "python",
   "name": "python3"
  },
  "language_info": {
   "codemirror_mode": {
    "name": "ipython",
    "version": 3
   },
   "file_extension": ".py",
   "mimetype": "text/x-python",
   "name": "python",
   "nbconvert_exporter": "python",
   "pygments_lexer": "ipython3",
   "version": "3.8.8"
  },
  "toc": {
   "base_numbering": 1,
   "nav_menu": {},
   "number_sections": true,
   "sideBar": true,
   "skip_h1_title": false,
   "title_cell": "Table of Contents",
   "title_sidebar": "Contents",
   "toc_cell": false,
   "toc_position": {},
   "toc_section_display": true,
   "toc_window_display": false
  },
  "varInspector": {
   "cols": {
    "lenName": 16,
    "lenType": 16,
    "lenVar": 40
   },
   "kernels_config": {
    "python": {
     "delete_cmd_postfix": "",
     "delete_cmd_prefix": "del ",
     "library": "var_list.py",
     "varRefreshCmd": "print(var_dic_list())"
    },
    "r": {
     "delete_cmd_postfix": ") ",
     "delete_cmd_prefix": "rm(",
     "library": "var_list.r",
     "varRefreshCmd": "cat(var_dic_list()) "
    }
   },
   "types_to_exclude": [
    "module",
    "function",
    "builtin_function_or_method",
    "instance",
    "_Feature"
   ],
   "window_display": false
  }
 },
 "nbformat": 4,
 "nbformat_minor": 2
}
